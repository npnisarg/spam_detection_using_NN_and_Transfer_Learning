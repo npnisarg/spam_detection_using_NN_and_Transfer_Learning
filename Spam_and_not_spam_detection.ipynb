{
  "cells": [
    {
      "attachments": {},
      "cell_type": "markdown",
      "metadata": {
        "id": "_bphECiUa9zw"
      },
      "source": [
        "# Sequential Data\n",
        "\n",
        "\n",
        "In this project, we will build a recurrent neural network to classify a SMS text message as \"spam\" or \"not spam\". In the process, you will\n",
        "    \n",
        "1. Clean and process text data for machine learning.\n",
        "2. Understand and implement a character-level recurrent neural network.\n",
        "3. Use torchtext to build recurrent neural network models.\n",
        "4. Understand batching for a recurrent neural network, and use torchtext to implement RNN batching.\n",
        "5. Understand how transfer learning can be applied to NLP projects."
      ]
    },
    {
      "attachments": {},
      "cell_type": "markdown",
      "metadata": {
        "id": "fFMdtipUPNdu"
      },
      "source": [
        "## PART A - Spam Detection\n",
        "\n",
        "In this part we will construct a LSTM model for identifying spam from non spam messages."
      ]
    },
    {
      "cell_type": "code",
      "execution_count": 10,
      "metadata": {
        "id": "HgfNOUaPa9z8"
      },
      "outputs": [],
      "source": [
        "import torch\n",
        "import torch.nn as nn\n",
        "import torch.nn.functional as F\n",
        "import torch.optim as optim\n",
        "import numpy as np"
      ]
    },
    {
      "attachments": {},
      "cell_type": "markdown",
      "metadata": {
        "id": "M0jLI9LBa90C"
      },
      "source": [
        "### 1. Data Cleaning\n",
        "\n",
        "We will be using the \"SMS Spam Collection Data Set\" available at http://archive.ics.uci.edu/ml/datasets/SMS+Spam+Collection\n",
        "\n",
        "There is a link to download the \"Data Folder\" at the very top of the webpage. Download the zip file, unzip it, and upload the file `SMSSpamCollection` to Colab.    "
      ]
    },
    {
      "cell_type": "code",
      "execution_count": 11,
      "metadata": {
        "id": "IK9rzUEwUWDt"
      },
      "outputs": [],
      "source": [
        "import numpy as np\n",
        "import pandas as pd"
      ]
    },
    {
      "cell_type": "code",
      "execution_count": 12,
      "metadata": {
        "id": "I_IfXHeTa90F"
      },
      "outputs": [],
      "source": [
        "ham = []\n",
        "spam = []\n",
        "ham_count = 0\n",
        "spam_count = 1\n",
        "txt_df = pd.DataFrame(columns = ['Text', 'Non_Spam', 'Spam'])\n",
        "\n",
        "for line in open('SMSSpamCollection'):\n",
        "  split = line.split(None, 1)\n",
        "  if split[0] == 'ham':\n",
        "    txt_df = txt_df.append({'Text': split[1], 'Non_Spam': 1, 'Spam': 0}, ignore_index = True)\n",
        "  if split[0] == 'spam':\n",
        "    txt_df = txt_df.append({'Text': split[1], 'Non_Spam': 0, 'Spam': 1}, ignore_index = True)"
      ]
    },
    {
      "cell_type": "code",
      "execution_count": 13,
      "metadata": {
        "colab": {
          "base_uri": "https://localhost:8080/"
        },
        "id": "Fdh8s-18UeBL",
        "outputId": "cf7ed009-e9fd-4ebd-ab20-4dfd64e1ce30"
      },
      "outputs": [
        {
          "name": "stdout",
          "output_type": "stream",
          "text": [
            "The number of non-spam messages are: 4827\n",
            "The number of spam messages are: 747\n"
          ]
        }
      ],
      "source": [
        "print('The number of non-spam messages are:',txt_df.Non_Spam.value_counts()[1])\n",
        "print('The number of spam messages are:',txt_df.Spam.value_counts()[1])\n"
      ]
    },
    {
      "cell_type": "code",
      "execution_count": 145,
      "metadata": {
        "id": "P_Y6Puz9a90l"
      },
      "outputs": [],
      "source": [
        "import torchtext\n",
        "from torchtext.legacy import data\n",
        "\n",
        "\n",
        "text_field = torchtext.legacy.data.Field(sequential=True,      # text sequence\n",
        "                                  tokenize=lambda x: x, # because are building a character-RNN\n",
        "                                  include_lengths=True, # to track the length of sequences, for batching\n",
        "                                  batch_first=True,\n",
        "                                  use_vocab=True)       # to turn each character into an integer index\n",
        "label_field = torchtext.legacy.data.Field(sequential=False,    # not a sequence\n",
        "                                   use_vocab=False,     # don't need to track vocabulary\n",
        "                                   is_target=True,      \n",
        "                                   batch_first=True,\n",
        "                                   preprocessing=lambda x: int(x == 'spam')) # convert text to 0 and 1\n",
        "\n",
        "fields = [('label', label_field), ('sms', text_field)]\n",
        "dataset = torchtext.legacy.data.TabularDataset(\"SMSSpamCollection\", # name of the file\n",
        "                         \"tsv\",               # fields are separated by a tab\n",
        "                         fields)\n",
        "\n",
        "\n",
        "\n",
        "dataset[0].sms\n",
        "dataset[0].label\n",
        "train, valid, test = dataset.split(split_ratio = [0.6,0.2,0.2])"
      ]
    },
    {
      "cell_type": "code",
      "execution_count": 146,
      "metadata": {
        "colab": {
          "base_uri": "https://localhost:8080/"
        },
        "id": "glWpUsnCkHZX",
        "outputId": "078b2713-e666-4169-96c6-9db14a0faff4"
      },
      "outputs": [
        {
          "name": "stdout",
          "output_type": "stream",
          "text": [
            "stoi: defaultdict(<bound method Vocab._default_unk_index of <torchtext.legacy.vocab.Vocab object at 0x7efa56610210>>, {'<unk>': 0, '<pad>': 1, ' ': 2, '.': 3, 'e': 4, 'i': 5, 'r': 6, 't': 7, 's': 8, 'A': 9, 'h': 10, 'l': 11, 'o': 12, 'w': 13, 'N': 14, 'O': 15, 'g': 16, 'n': 17, '\"': 18, ':': 19, 'C': 20, 'D': 21, 'E': 22, 'G': 23, 'I': 24, 'a': 25, 'b': 26, 'u': 27, '&': 28, ')': 29, ';': 30, 'B': 31, 'F': 32, 'H': 33, 'M': 34, 'R': 35, 'T': 36, 'V': 37, 'Y': 38, 'd': 39, 'f': 40, 'm': 41, 'p': 42, 'z': 43})\n",
            "itos: ['<unk>', '<pad>', ' ', '.', 'e', 'i', 'r', 't', 's', 'A', 'h', 'l', 'o', 'w', 'N', 'O', 'g', 'n', '\"', ':', 'C', 'D', 'E', 'G', 'I', 'a', 'b', 'u', '&', ')', ';', 'B', 'F', 'H', 'M', 'R', 'T', 'V', 'Y', 'd', 'f', 'm', 'p', 'z']\n"
          ]
        }
      ],
      "source": [
        "text_field.build_vocab(train[0].sms)\n",
        "print('stoi:', text_field.vocab.stoi)\n",
        "print('itos:', text_field.vocab.itos)"
      ]
    },
    {
      "attachments": {},
      "cell_type": "markdown",
      "metadata": {
        "id": "v6nP0Ks_a90o"
      },
      "source": [
        "You saw that there are many more non-spam messages than spam messages.\n",
        "This **imbalance** in our training data will be problematic for training.\n",
        "We can fix this disparity by duplicating spam messages in the training set,\n",
        "so that the training set is roughly **balanced**."
      ]
    },
    {
      "cell_type": "code",
      "execution_count": 147,
      "metadata": {
        "id": "FWvx9_rka90p"
      },
      "outputs": [],
      "source": [
        "# save the original training examples\n",
        "old_train_examples = train.examples\n",
        "# get all the spam messages in `train`\n",
        "train_spam = []\n",
        "for item in train.examples:\n",
        "    if item.label == 1:\n",
        "        train_spam.append(item)\n",
        "# duplicate each spam message 6 more times\n",
        "train.examples = old_train_examples + train_spam * 6"
      ]
    },
    {
      "attachments": {},
      "cell_type": "markdown",
      "metadata": {
        "id": "j7eUmBEva90r"
      },
      "source": [
        "We need to build the vocabulary on the training data by running the below code.\n",
        "This finds all the possible character tokens in the training set."
      ]
    },
    {
      "cell_type": "markdown",
      "metadata": {
        "id": "m5AD12LTgoB6"
      },
      "source": [
        "stoi - It is a method where token strings are converted or mapped to numerical identifiers.\n",
        "\n",
        "itos – It is a list where token strings are indexed by their numerical identifiers."
      ]
    },
    {
      "cell_type": "code",
      "execution_count": 148,
      "metadata": {
        "colab": {
          "base_uri": "https://localhost:8080/"
        },
        "id": "8CQM8flKa90s",
        "outputId": "edad24bf-98ce-4f3a-8977-895302aac32d"
      },
      "outputs": [
        {
          "name": "stdout",
          "output_type": "stream",
          "text": [
            "stoi: defaultdict(<bound method Vocab._default_unk_index of <torchtext.legacy.vocab.Vocab object at 0x7efa5660f110>>, {'<unk>': 0, '<pad>': 1, ' ': 2, 'e': 3, 'o': 4, 't': 5, 'a': 6, 'n': 7, 'r': 8, 'i': 9, 's': 10, 'l': 11, 'u': 12, 'h': 13, 'd': 14, '0': 15, '.': 16, 'c': 17, 'm': 18, 'y': 19, 'w': 20, 'p': 21, 'g': 22, '1': 23, 'f': 24, 'b': 25, '2': 26, 'T': 27, '8': 28, 'k': 29, 'E': 30, 'v': 31, '5': 32, 'S': 33, 'I': 34, 'C': 35, '4': 36, 'A': 37, 'O': 38, '7': 39, '6': 40, 'N': 41, 'x': 42, '3': 43, '!': 44, 'R': 45, ',': 46, '9': 47, 'P': 48, 'W': 49, 'H': 50, 'U': 51, 'M': 52, 'L': 53, 'D': 54, 'F': 55, '?': 56, 'G': 57, 'B': 58, \"'\": 59, 'Y': 60, '/': 61, '£': 62, ':': 63, '&': 64, '-': 65, 'z': 66, 'X': 67, 'V': 68, '*': 69, 'j': 70, 'K': 71, ')': 72, 'J': 73, '+': 74, ';': 75, 'Q': 76, '\"': 77, '(': 78, 'q': 79, '#': 80, '>': 81, '=': 82, '@': 83, 'ü': 84, 'Z': 85, '$': 86, 'Ü': 87, '|': 88, '\\x92': 89, '_': 90, '‘': 91, '[': 92, ']': 93, '<': 94, '%': 95, '\\x93': 96, '“': 97, '…': 98, '–': 99, '\\\\': 100, '\\x96': 101, 'é': 102, '\\t': 103, '\\n': 104, '\\x94': 105, '’': 106, '^': 107, '\\x91': 108, 'É': 109, 'ì': 110, '┾': 111, '〨': 112, '鈥': 113})\n",
            "itos: ['<unk>', '<pad>', ' ', 'e', 'o', 't', 'a', 'n', 'r', 'i', 's', 'l', 'u', 'h', 'd', '0', '.', 'c', 'm', 'y', 'w', 'p', 'g', '1', 'f', 'b', '2', 'T', '8', 'k', 'E', 'v', '5', 'S', 'I', 'C', '4', 'A', 'O', '7', '6', 'N', 'x', '3', '!', 'R', ',', '9', 'P', 'W', 'H', 'U', 'M', 'L', 'D', 'F', '?', 'G', 'B', \"'\", 'Y', '/', '£', ':', '&', '-', 'z', 'X', 'V', '*', 'j', 'K', ')', 'J', '+', ';', 'Q', '\"', '(', 'q', '#', '>', '=', '@', 'ü', 'Z', '$', 'Ü', '|', '\\x92', '_', '‘', '[', ']', '<', '%', '\\x93', '“', '…', '–', '\\\\', '\\x96', 'é', '\\t', '\\n', '\\x94', '’', '^', '\\x91', 'É', 'ì', '┾', '〨', '鈥']\n"
          ]
        }
      ],
      "source": [
        "text_field.build_vocab(train)\n",
        "print('stoi:', text_field.vocab.stoi)\n",
        "print('itos:', text_field.vocab.itos)"
      ]
    },
    {
      "attachments": {},
      "cell_type": "markdown",
      "metadata": {
        "id": "TC8WVE8Ua90u"
      },
      "source": [
        "The tokens `<unk>` and `<pad>` were not in our SMS text messages.\n",
        "\n",
        "\n",
        "UNK - \"unknown token\" - is used to replace the rare words that did not fit in your vocabulary. So your sentence My name is guotong1988 will be translated into My name is _unk_.\n",
        "\n",
        "PAD - your GPU (or CPU at worst) processes your training data in batches and all the sequences in your batch should have the same length.  If the max length of your sequence is 8, your sentence My name is guotong1988 will be padded from either side to fit this length: My name is guotong1988 _pad_ _pad_ _pad_ _pad_."
      ]
    },
    {
      "cell_type": "code",
      "execution_count": 149,
      "metadata": {
        "id": "V8N8qLWOa90y"
      },
      "outputs": [],
      "source": [
        "from torchtext.legacy import data\n",
        "train_iter = data.BucketIterator(train,\n",
        "                                           batch_size=32,\n",
        "                                           sort_key=lambda x: len(x.sms), # to minimize padding\n",
        "                                           sort_within_batch=True,        # sort within each batch\n",
        "                                           repeat=False)                  # repeat the iterator for many epochs\n",
        "\n",
        "val_iter = data.BucketIterator(valid,\n",
        "                                           batch_size=32,\n",
        "                                           sort_key=lambda x: len(x.sms), # to minimize padding\n",
        "                                           sort_within_batch=True,        # sort within each batch\n",
        "                                           repeat=False)                  # repeat the iterator for many epochs\n",
        "\n",
        "\n",
        "test_iter = data.BucketIterator(test,\n",
        "                                           batch_size=32,\n",
        "                                           sort_key=lambda x: len(x.sms), # to minimize padding\n",
        "                                           sort_within_batch=True,        # sort within each batch\n",
        "                                           repeat=False)                  # repeat the iterator for many epochs"
      ]
    },
    {
      "cell_type": "code",
      "execution_count": 150,
      "metadata": {
        "colab": {
          "base_uri": "https://localhost:8080/"
        },
        "id": "Qwz-rOaha902",
        "outputId": "3e88eaa0-31d9-48f9-c2fa-14933cee8d77"
      },
      "outputs": [
        {
          "name": "stdout",
          "output_type": "stream",
          "text": [
            "The length of batch is: 32\n",
            "The length of each sentences in this batch is:\n",
            " tensor([47, 47, 47, 47, 47, 47, 47, 47, 47, 47, 47, 47, 47, 47, 47, 47, 47, 47,\n",
            "        47, 47, 47, 47, 47, 47, 47, 46, 46, 46, 46, 46, 46, 46])\n",
            "The maximum length among all sentences is 47\n",
            "The total padding in the sentence is 7\n",
            "\n",
            "\n",
            "The length of batch is: 32\n",
            "The length of each sentences in this batch is:\n",
            " tensor([43, 43, 43, 43, 43, 43, 43, 43, 43, 43, 42, 42, 42, 42, 42, 42, 42, 42,\n",
            "        42, 42, 42, 42, 42, 42, 42, 42, 42, 42, 42, 41, 41, 41])\n",
            "The maximum length among all sentences is 43\n",
            "The total padding in the sentence is 25\n",
            "\n",
            "\n",
            "The length of batch is: 32\n",
            "The length of each sentences in this batch is:\n",
            " tensor([68, 68, 68, 67, 67, 67, 67, 67, 67, 67, 67, 67, 67, 67, 66, 66, 66, 66,\n",
            "        66, 66, 66, 66, 66, 66, 66, 66, 66, 66, 66, 66, 65, 65])\n",
            "The maximum length among all sentences is 68\n",
            "The total padding in the sentence is 49\n",
            "\n",
            "\n",
            "The length of batch is: 32\n",
            "The length of each sentences in this batch is:\n",
            " tensor([40, 40, 40, 40, 40, 40, 40, 40, 40, 40, 40, 40, 40, 40, 40, 40, 40, 40,\n",
            "        40, 40, 40, 40, 39, 39, 39, 39, 39, 39, 39, 39, 39, 39])\n",
            "The maximum length among all sentences is 40\n",
            "The total padding in the sentence is 10\n",
            "\n",
            "\n",
            "The length of batch is: 32\n",
            "The length of each sentences in this batch is:\n",
            " tensor([63, 63, 63, 63, 63, 63, 63, 63, 63, 63, 63, 63, 63, 63, 63, 63, 63, 63,\n",
            "        63, 63, 63, 63, 62, 62, 62, 62, 62, 62, 62, 62, 62, 62])\n",
            "The maximum length among all sentences is 63\n",
            "The total padding in the sentence is 10\n",
            "\n",
            "\n",
            "The length of batch is: 32\n",
            "The length of each sentences in this batch is:\n",
            " tensor([148, 148, 148, 148, 148, 148, 148, 148, 147, 147, 147, 147, 147, 147,\n",
            "        147, 147, 147, 147, 147, 147, 147, 147, 147, 147, 147, 147, 147, 147,\n",
            "        147, 147, 147, 147])\n",
            "The maximum length among all sentences is 148\n",
            "The total padding in the sentence is 24\n",
            "\n",
            "\n",
            "The length of batch is: 32\n",
            "The length of each sentences in this batch is:\n",
            " tensor([55, 55, 55, 55, 55, 55, 55, 55, 55, 55, 54, 54, 54, 54, 54, 54, 54, 54,\n",
            "        54, 54, 54, 54, 54, 54, 54, 54, 53, 53, 53, 53, 53, 53])\n",
            "The maximum length among all sentences is 55\n",
            "The total padding in the sentence is 28\n",
            "\n",
            "\n",
            "The length of batch is: 32\n",
            "The length of each sentences in this batch is:\n",
            " tensor([172, 171, 169, 169, 169, 169, 169, 167, 167, 167, 166, 166, 166, 166,\n",
            "        166, 166, 166, 166, 166, 166, 166, 166, 166, 166, 166, 166, 166, 165,\n",
            "        165, 165, 165, 165])\n",
            "The maximum length among all sentences is 172\n",
            "The total padding in the sentence is 168\n",
            "\n",
            "\n",
            "The length of batch is: 32\n",
            "The length of each sentences in this batch is:\n",
            " tensor([160, 159, 159, 159, 159, 159, 159, 159, 159, 159, 159, 159, 159, 159,\n",
            "        159, 159, 159, 159, 159, 159, 159, 159, 159, 159, 159, 159, 159, 159,\n",
            "        159, 159, 159, 159])\n",
            "The maximum length among all sentences is 160\n",
            "The total padding in the sentence is 31\n",
            "\n",
            "\n",
            "The length of batch is: 32\n",
            "The length of each sentences in this batch is:\n",
            " tensor([145, 145, 145, 145, 145, 145, 145, 145, 145, 145, 145, 145, 145, 145,\n",
            "        145, 145, 145, 145, 145, 145, 145, 145, 145, 145, 144, 144, 144, 144,\n",
            "        144, 144, 144, 144])\n",
            "The maximum length among all sentences is 145\n",
            "The total padding in the sentence is 8\n",
            "\n",
            "\n",
            "The length of batch is: 32\n",
            "The length of each sentences in this batch is:\n",
            " tensor([157, 157, 157, 157, 157, 157, 156, 156, 156, 156, 156, 156, 156, 156,\n",
            "        156, 156, 156, 156, 156, 156, 156, 156, 156, 156, 156, 156, 156, 156,\n",
            "        156, 156, 156, 156])\n",
            "The maximum length among all sentences is 157\n",
            "The total padding in the sentence is 26\n",
            "\n",
            "\n"
          ]
        }
      ],
      "source": [
        "i = 0\n",
        "for batch in train_iter:\n",
        "    if i <=10:\n",
        "      print('The length of batch is:', len(batch))\n",
        "      print('The length of each sentences in this batch is:\\n',batch.sms[1])\n",
        "      print('The maximum length among all sentences is', batch.sms[1].max().item())\n",
        "      pad_total = (batch.sms[0]==1).sum().item()\n",
        "      print('The total padding in the sentence is', pad_total)\n",
        "      print('\\n')\n",
        "      i +=1\n",
        "    else:\n",
        "      break"
      ]
    },
    {
      "attachments": {},
      "cell_type": "markdown",
      "metadata": {
        "id": "y7HnqP6_a904"
      },
      "source": [
        "### 2. Model Building\n",
        "\n",
        "Building a recurrent neural network model, using an architecture of your choosing. \n",
        "Using the one-hot embedding of each character as input to your recurrent network.\n",
        "Using one or more fully-connected layers to make the prediction based on your\n",
        "recurrent network output.\n",
        "\n",
        "Instead of using the RNN output value for the final token, another often used\n",
        "strategy is to max-pool over the entire output array. That is, instead of calling\n",
        "something like:\n",
        "\n",
        "```\n",
        "out, _ = self.rnn(x)\n",
        "self.fc(out[:, -1, :])\n",
        "```\n",
        "\n",
        "where `self.rnn` is an `nn.RNN`, `nn.GRU`, or `nn.LSTM` module, and `self.fc` is a \n",
        "fully-connected \n",
        "layer, we use:\n",
        "\n",
        "```\n",
        "out, _ = self.rnn(x)\n",
        "self.fc(torch.max(out, dim=1)[0])\n",
        "```\n",
        "\n",
        "This works reasonably in practice. An even better alternative is to concatenate the\n",
        "max-pooling and average-pooling of the RNN outputs:\n",
        "\n",
        "```\n",
        "out, _ = self.rnn(x)\n",
        "out = torch.cat([torch.max(out, dim=1)[0], \n",
        "                 torch.mean(out, dim=1)], dim=1)\n",
        "self.fc(out)\n",
        "```\n",
        "\n",
        "This option is also explored in this project. The way you pool the RNN outputs\n",
        "is one of the \"hyperparameters\" that you can choose to tune later on."
      ]
    },
    {
      "cell_type": "code",
      "execution_count": 151,
      "metadata": {
        "id": "4LTQ7zFka909"
      },
      "outputs": [],
      "source": [
        "class GRU(nn.Module):\n",
        "  def __init__(self, input_size, hidden_size, out_type = 1):\n",
        "    super(GRU, self).__init__()\n",
        "    self.emb = torch.eye(input_size)\n",
        "    self.hidden_size = hidden_size\n",
        "    self.out_type = out_type\n",
        "    self.name = 'GRU_h_{}m_{}'.format(hidden_size, out_type)\n",
        "    self.rnn = nn.GRU(input_size, hidden_size, batch_first=True)\n",
        "    self.fc = nn.Linear(hidden_size, 2)\n",
        "\n",
        "  def forward(self, x):\n",
        "    x = self.emb[x]\n",
        "    h0 = torch.zeros(1, x.size(0), self.hidden_size)\n",
        "    out, _ = self.rnn(x, h0)\n",
        "\n",
        "    if self.out_type == 1:\n",
        "      out = self.fc(out[:,-1,:])\n",
        "      return out\n",
        "\n",
        "    if self.out_type == 2:\n",
        "      out = self.fc(torch.max(out, dim=1)[0])\n",
        "      return out\n",
        "      \n",
        "    if self.out_type == 3:\n",
        "      out = torch.cat([torch.max(out, dim=1)[0], torch.mean(out, dim=1)], dim=1)\n",
        "      return out"
      ]
    },
    {
      "attachments": {},
      "cell_type": "markdown",
      "metadata": {
        "id": "vKIYPl_Ba90_"
      },
      "source": [
        "### 3. Training"
      ]
    },
    {
      "cell_type": "code",
      "execution_count": 152,
      "metadata": {
        "id": "pvNfhGD6a91A"
      },
      "outputs": [],
      "source": [
        "def get_accuracy(model, input, criterion):\n",
        "    \"\"\" Compute the accuracy of the `model` across a dataset `data`\n",
        "    \n",
        "    Example usage:\n",
        "    \n",
        "    >>> model = MyRNN() # to be defined\n",
        "    >>> get_accuracy(model, valid) # the variable `valid` is from above\n",
        "    \"\"\"\n",
        "    #Function to calculate accuracy of the classification model\n",
        "    criterion = criterion\n",
        "    correct = 0\n",
        "    total = 0\n",
        "    total_loss = 0\n",
        "    i = 0\n",
        "\n",
        "    for each in input:\n",
        "\n",
        "        output = model(each.sms[0])\n",
        "        pred = output.max(1, keepdim=True)[1]\n",
        "\n",
        "        correct += pred.eq(each.label.view_as(pred)).sum().item()\n",
        "        total += each.label.shape[0]\n",
        "\n",
        "        loss = criterion(output, each.label)\n",
        "        total_loss += loss.item()\n",
        "        i+=1\n",
        "      \n",
        "    loss = float(total_loss) / (i)\n",
        "    acc = correct/total\n",
        "\n",
        "    return loss, acc\n",
        "\n",
        "def get_model_name(name, batch_size, learning_rate, epoch):\n",
        "    path = \"model_{0}_bs{1}_lr{2}_epoch{3}\".format(name,\n",
        "                                                   batch_size,\n",
        "                                                   learning_rate,\n",
        "                                                   epoch)\n",
        "    return path"
      ]
    },
    {
      "cell_type": "code",
      "execution_count": 153,
      "metadata": {
        "id": "CVtf7CJCa91D"
      },
      "outputs": [],
      "source": [
        "import matplotlib.pyplot as plt\n",
        "from tqdm import tqdm\n",
        "import time\n",
        "\n",
        "def train_gru_network(model, main_data, batch_size ,num_epochs=5, lr_rate=1e-5):\n",
        "    \n",
        "    #defining the train and validation iterator\n",
        "    train_iter = main_data.BucketIterator(train,\n",
        "                                           batch_size=batch_size,\n",
        "                                           sort_key=lambda x: len(x.sms), # to minimize padding\n",
        "                                           sort_within_batch=True,        # sort within each batch\n",
        "                                           repeat=False)                  # repeat the iterator for many epochs\n",
        "\n",
        "    val_iter = main_data.BucketIterator(valid,\n",
        "                                           batch_size=batch_size,\n",
        "                                           sort_key=lambda x: len(x.sms), # to minimize padding\n",
        "                                           sort_within_batch=True,        # sort within each batch\n",
        "                                           repeat=False)                  # repeat the iterator for many epochs \n",
        "    \n",
        "    \n",
        "    criterion = nn.CrossEntropyLoss()\n",
        "    optimizer = torch.optim.Adam(model.parameters(), lr=lr_rate)\n",
        "    tr_loss, val_loss, tr_acc, val_acc = [], [], [], []\n",
        "    epochs = []\n",
        "    print(\"--------------------Training Started------------------------------\")\n",
        "    start_time = time.time()\n",
        "    for epoch in range(num_epochs):\n",
        "        for each in train_iter:\n",
        "            optimizer.zero_grad()\n",
        "            pred = model(each.sms[0])\n",
        "            loss = criterion(pred, each.label)\n",
        "            loss.backward()\n",
        "            optimizer.step()\n",
        "\n",
        "        epochs.append(epoch)\n",
        "\n",
        "        tr_each_l, tr_each_acc = get_accuracy(model, train_iter, criterion)\n",
        "\n",
        "        with torch.no_grad(): \n",
        "          val_each_l, val_each_a = get_accuracy(model, val_iter, criterion)\n",
        "        \n",
        "        tr_loss.append(tr_each_l)\n",
        "        val_loss.append(val_each_l)\n",
        "        tr_acc.append(tr_each_acc)\n",
        "        val_acc.append(val_each_a)\n",
        "\n",
        "        print(\"Epoch %d; Train Loss %f; Val Loss %f; Train Acc %f; Val Acc %f\" % (\n",
        "              epoch+1, tr_loss[epoch], val_loss[epoch], tr_acc[epoch], val_acc[epoch]))\n",
        "        \n",
        "        model_path = get_model_name(model.name, batch_size, lr_rate, epoch)\n",
        "        torch.save(model.state_dict(), model_path)\n",
        "    \n",
        "    print('--------------------Training Completed----------------------------')\n",
        "    end_time = time.time()\n",
        "    elapsed_time = end_time - start_time\n",
        "    print(\"Total time elapsed: {:.2f} seconds\".format(elapsed_time))\n",
        "    \n",
        "    # plotting\n",
        "    plt.title(\"Training and Validation Loss Curve\")\n",
        "    plt.plot(tr_loss, label=\"Train loss\")\n",
        "    plt.plot(val_loss, label=\"Validation loss\")\n",
        "    plt.xlabel(\"Epoch\")\n",
        "    plt.ylabel(\"Loss\")\n",
        "    plt.legend(loc='best')\n",
        "    plt.show()\n",
        "\n",
        "    plt.title(\"Training and Validation Accuracy Curve\")\n",
        "    plt.plot(epochs, tr_acc, label=\"Train Acc\")\n",
        "    plt.plot(epochs, val_acc, label=\"Validation Acc\")\n",
        "    plt.xlabel(\"Epoch\")\n",
        "    plt.ylabel(\"Accuracy\")\n",
        "    plt.legend(loc='best')\n",
        "    plt.show()"
      ]
    },
    {
      "cell_type": "markdown",
      "metadata": {
        "id": "077u6Xrmjym3"
      },
      "source": [
        "Hyperparameters:\n",
        "\n",
        "1. Model type: 3 different model types are used as suggested in part 2 starting.\n",
        "2. Learning rate: 2e-4 or 1e-4\n",
        "3. Hidden Size: 50, 100, 30\n",
        "4. Batch size: 16 or 32\n",
        "\n",
        "The best model performing model is batch size = 16, learning rate = 1e-4, hidden size = 30 and output type (max pool on the output array) and achieved the accuracy around 0.97 for validation set. I used this hyperparameter as they impact the model training directly."
      ]
    },
    {
      "cell_type": "code",
      "execution_count": 68,
      "metadata": {
        "colab": {
          "base_uri": "https://localhost:8080/",
          "height": 972
        },
        "id": "A2GEWfDca91G",
        "outputId": "7d4358d0-95b3-4cbe-a4c7-6429b1524c13"
      },
      "outputs": [
        {
          "name": "stdout",
          "output_type": "stream",
          "text": [
            "--------------------Training Started------------------------------\n",
            "Epoch 1; Train Loss 0.655100; Val Loss 0.706613; Train Acc 0.524764; Val Acc 0.132735\n",
            "Epoch 2; Train Loss 0.335283; Val Loss 0.521508; Train Acc 0.943515; Val Acc 0.946188\n",
            "Epoch 3; Train Loss 0.237649; Val Loss 0.234792; Train Acc 0.927282; Val Acc 0.979372\n",
            "Epoch 4; Train Loss 0.196380; Val Loss 0.261418; Train Acc 0.947822; Val Acc 0.972197\n",
            "Epoch 5; Train Loss 0.165051; Val Loss 0.151661; Train Acc 0.948816; Val Acc 0.977578\n",
            "Epoch 6; Train Loss 0.157114; Val Loss 0.145202; Train Acc 0.949147; Val Acc 0.976682\n",
            "Epoch 7; Train Loss 0.136029; Val Loss 0.137840; Train Acc 0.958754; Val Acc 0.975785\n",
            "Epoch 8; Train Loss 0.409236; Val Loss 0.752917; Train Acc 0.890509; Val Acc 0.799103\n",
            "Epoch 9; Train Loss 0.129915; Val Loss 0.149716; Train Acc 0.959086; Val Acc 0.972197\n",
            "Epoch 10; Train Loss 0.123523; Val Loss 0.097679; Train Acc 0.960576; Val Acc 0.980269\n",
            "Epoch 11; Train Loss 0.113812; Val Loss 0.096658; Train Acc 0.964055; Val Acc 0.978475\n",
            "Epoch 12; Train Loss 0.114648; Val Loss 0.092667; Train Acc 0.963724; Val Acc 0.979372\n",
            "Epoch 13; Train Loss 0.123500; Val Loss 0.078434; Train Acc 0.954613; Val Acc 0.981166\n",
            "Epoch 14; Train Loss 0.103493; Val Loss 0.116028; Train Acc 0.970515; Val Acc 0.973094\n",
            "Epoch 15; Train Loss 0.100142; Val Loss 0.118202; Train Acc 0.971343; Val Acc 0.974888\n",
            "Epoch 16; Train Loss 0.105123; Val Loss 0.118002; Train Acc 0.968362; Val Acc 0.976682\n",
            "Epoch 17; Train Loss 0.103540; Val Loss 0.090804; Train Acc 0.966705; Val Acc 0.978475\n",
            "Epoch 18; Train Loss 0.089750; Val Loss 0.086919; Train Acc 0.973828; Val Acc 0.978475\n",
            "Epoch 19; Train Loss 0.087292; Val Loss 0.083810; Train Acc 0.974325; Val Acc 0.980269\n",
            "Epoch 20; Train Loss 0.090424; Val Loss 0.074097; Train Acc 0.973497; Val Acc 0.979372\n",
            "--------------------Training Completed----------------------------\n",
            "Total time elapsed: 339.51 seconds\n"
          ]
        },
        {
          "data": {
            "image/png": "[encoded data removed]",
            "text/plain": [
              "<Figure size 432x288 with 1 Axes>"
            ]
          },
          "metadata": {
            "needs_background": "light"
          },
          "output_type": "display_data"
        },
        {
          "data": {
            "image/png": "[encoded data removed]",
            "text/plain": [
              "<Figure size 432x288 with 1 Axes>"
            ]
          },
          "metadata": {
            "needs_background": "light"
          },
          "output_type": "display_data"
        }
      ],
      "source": [
        "input_size = len(text_field.vocab)\n",
        "model1 = GRU(input_size, 100, out_type = 2)\n",
        "train_gru_network(model1, data, num_epochs=20, batch_size = 32, lr_rate=2e-4)"
      ]
    },
    {
      "cell_type": "code",
      "execution_count": 69,
      "metadata": {
        "colab": {
          "base_uri": "https://localhost:8080/",
          "height": 972
        },
        "id": "DTqheG_iB0SU",
        "outputId": "fb203f14-25dd-44bd-8915-c3e073a72133"
      },
      "outputs": [
        {
          "name": "stdout",
          "output_type": "stream",
          "text": [
            "--------------------Training Started------------------------------\n",
            "Epoch 1; Train Loss 4.452066; Val Loss 4.458595; Train Acc 0.520623; Val Acc 0.127354\n",
            "Epoch 2; Train Loss 4.189445; Val Loss 4.194822; Train Acc 0.540335; Val Acc 0.184753\n",
            "Epoch 3; Train Loss 4.060266; Val Loss 4.067160; Train Acc 0.505383; Val Acc 0.437668\n",
            "Epoch 4; Train Loss 3.990210; Val Loss 3.996134; Train Acc 0.530396; Val Acc 0.571300\n",
            "Epoch 5; Train Loss 3.961318; Val Loss 3.966043; Train Acc 0.482193; Val Acc 0.470852\n",
            "Epoch 6; Train Loss 3.945348; Val Loss 3.949024; Train Acc 0.454033; Val Acc 0.453812\n",
            "Epoch 7; Train Loss 3.931910; Val Loss 3.934873; Train Acc 0.451383; Val Acc 0.521076\n",
            "Epoch 8; Train Loss 3.919438; Val Loss 3.921851; Train Acc 0.504224; Val Acc 0.556054\n",
            "Epoch 9; Train Loss 3.906668; Val Loss 3.908673; Train Acc 0.479377; Val Acc 0.369507\n",
            "Epoch 10; Train Loss 3.893697; Val Loss 3.895262; Train Acc 0.489813; Val Acc 0.476233\n",
            "Epoch 11; Train Loss 3.880246; Val Loss 3.881446; Train Acc 0.511347; Val Acc 0.617937\n",
            "Epoch 12; Train Loss 3.866361; Val Loss 3.867230; Train Acc 0.492960; Val Acc 0.697758\n",
            "Epoch 13; Train Loss 3.851987; Val Loss 3.852560; Train Acc 0.475070; Val Acc 0.755157\n",
            "Epoch 14; Train Loss 3.837189; Val Loss 3.837489; Train Acc 0.478052; Val Acc 0.796413\n",
            "Epoch 15; Train Loss 3.822099; Val Loss 3.822153; Train Acc 0.400364; Val Acc 0.591928\n",
            "Epoch 16; Train Loss 3.806799; Val Loss 3.806637; Train Acc 0.545801; Val Acc 0.165022\n",
            "Epoch 17; Train Loss 3.791369; Val Loss 3.790994; Train Acc 0.530065; Val Acc 0.144395\n",
            "Epoch 18; Train Loss 3.775956; Val Loss 3.775368; Train Acc 0.521782; Val Acc 0.128251\n",
            "Epoch 19; Train Loss 3.760597; Val Loss 3.759850; Train Acc 0.520788; Val Acc 0.128251\n",
            "Epoch 20; Train Loss 3.745403; Val Loss 3.744495; Train Acc 0.520623; Val Acc 0.127354\n",
            "--------------------Training Completed----------------------------\n",
            "Total time elapsed: 352.52 seconds\n"
          ]
        },
        {
          "data": {
            "image/png": "[encoded data removed]",
            "text/plain": [
              "<Figure size 432x288 with 1 Axes>"
            ]
          },
          "metadata": {
            "needs_background": "light"
          },
          "output_type": "display_data"
        },
        {
          "data": {
            "image/png": "[encoded data removed]",
            "text/plain": [
              "<Figure size 432x288 with 1 Axes>"
            ]
          },
          "metadata": {
            "needs_background": "light"
          },
          "output_type": "display_data"
        }
      ],
      "source": [
        "input_size = len(text_field.vocab)\n",
        "model2 = GRU(input_size, 100, out_type = 3)\n",
        "train_gru_network(model2, data, num_epochs=20, batch_size = 32, lr_rate=1e-4)"
      ]
    },
    {
      "cell_type": "code",
      "execution_count": 156,
      "metadata": {
        "colab": {
          "base_uri": "https://localhost:8080/",
          "height": 972
        },
        "id": "hl1Xxxph_95Z",
        "outputId": "abeb2381-0cd6-43c5-c9de-18b172561147"
      },
      "outputs": [
        {
          "name": "stdout",
          "output_type": "stream",
          "text": [
            "--------------------Training Started------------------------------\n",
            "Epoch 1; Train Loss 0.680573; Val Loss 0.705572; Train Acc 0.518357; Val Acc 0.140807\n",
            "Epoch 2; Train Loss 0.641746; Val Loss 0.685091; Train Acc 0.669908; Val Acc 0.416143\n",
            "Epoch 3; Train Loss 0.467822; Val Loss 0.575786; Train Acc 0.943336; Val Acc 0.956951\n",
            "Epoch 4; Train Loss 0.362316; Val Loss 0.449065; Train Acc 0.933445; Val Acc 0.973991\n",
            "Epoch 5; Train Loss 0.305000; Val Loss 0.344674; Train Acc 0.931433; Val Acc 0.981166\n",
            "Epoch 6; Train Loss 0.274304; Val Loss 0.275533; Train Acc 0.927745; Val Acc 0.981166\n",
            "Epoch 7; Train Loss 0.236676; Val Loss 0.272864; Train Acc 0.952892; Val Acc 0.974888\n",
            "Epoch 8; Train Loss 0.217668; Val Loss 0.231690; Train Acc 0.953395; Val Acc 0.978475\n",
            "Epoch 9; Train Loss 0.200304; Val Loss 0.209271; Train Acc 0.956580; Val Acc 0.979372\n",
            "Epoch 10; Train Loss 0.195312; Val Loss 0.187365; Train Acc 0.951048; Val Acc 0.980269\n",
            "Epoch 11; Train Loss 0.220561; Val Loss 0.163052; Train Acc 0.926069; Val Acc 0.981166\n",
            "Epoch 12; Train Loss 0.210474; Val Loss 0.166133; Train Acc 0.928751; Val Acc 0.982063\n",
            "Epoch 13; Train Loss 0.198914; Val Loss 0.165936; Train Acc 0.932775; Val Acc 0.982063\n",
            "Epoch 14; Train Loss 0.185674; Val Loss 0.166935; Train Acc 0.938642; Val Acc 0.980269\n",
            "Epoch 15; Train Loss 0.172947; Val Loss 0.170534; Train Acc 0.948030; Val Acc 0.978475\n",
            "Epoch 16; Train Loss 0.163159; Val Loss 0.163095; Train Acc 0.957586; Val Acc 0.978475\n",
            "Epoch 17; Train Loss 0.160546; Val Loss 0.157798; Train Acc 0.958424; Val Acc 0.978475\n",
            "Epoch 18; Train Loss 0.157135; Val Loss 0.139510; Train Acc 0.951551; Val Acc 0.977578\n",
            "Epoch 19; Train Loss 0.172812; Val Loss 0.120668; Train Acc 0.934451; Val Acc 0.982960\n",
            "Epoch 20; Train Loss 0.145777; Val Loss 0.146470; Train Acc 0.958424; Val Acc 0.978475\n",
            "--------------------Training Completed----------------------------\n",
            "Total time elapsed: 339.44 seconds\n"
          ]
        },
        {
          "data": {
            "image/png": "[encoded data removed]",
            "text/plain": [
              "<Figure size 432x288 with 1 Axes>"
            ]
          },
          "metadata": {
            "needs_background": "light"
          },
          "output_type": "display_data"
        },
        {
          "data": {
            "image/png": "[encoded data removed]",
            "text/plain": [
              "<Figure size 432x288 with 1 Axes>"
            ]
          },
          "metadata": {
            "needs_background": "light"
          },
          "output_type": "display_data"
        }
      ],
      "source": [
        "input_size = len(text_field.vocab)\n",
        "model3 = GRU(input_size, 30, out_type = 2)\n",
        "train_gru_network(model3, data, num_epochs=20, batch_size = 16, lr_rate=1e-4)"
      ]
    },
    {
      "cell_type": "code",
      "execution_count": 18,
      "metadata": {
        "colab": {
          "base_uri": "https://localhost:8080/",
          "height": 972
        },
        "id": "-ARMA5sdmHts",
        "outputId": "48b9155c-7d8f-4e16-e1e6-babe3d94a417"
      },
      "outputs": [
        {
          "name": "stdout",
          "output_type": "stream",
          "text": [
            "--------------------Training Started------------------------------\n",
            "Epoch 1; Train Loss 0.688047; Val Loss 0.663381; Train Acc 0.476041; Val Acc 0.876233\n",
            "Epoch 2; Train Loss 0.676325; Val Loss 0.674059; Train Acc 0.916186; Val Acc 0.937220\n",
            "Epoch 3; Train Loss 0.659528; Val Loss 0.679875; Train Acc 0.849168; Val Acc 0.754260\n",
            "Epoch 4; Train Loss 0.631750; Val Loss 0.669947; Train Acc 0.893134; Val Acc 0.822422\n",
            "Epoch 5; Train Loss 0.564479; Val Loss 0.647612; Train Acc 0.924090; Val Acc 0.873543\n",
            "Epoch 6; Train Loss 0.413856; Val Loss 0.590112; Train Acc 0.943191; Val Acc 0.922870\n",
            "Epoch 7; Train Loss 0.362461; Val Loss 0.484855; Train Acc 0.932817; Val Acc 0.945291\n",
            "Epoch 8; Train Loss 0.320801; Val Loss 0.455287; Train Acc 0.951095; Val Acc 0.943498\n",
            "Epoch 9; Train Loss 0.295783; Val Loss 0.406012; Train Acc 0.942533; Val Acc 0.946188\n",
            "Epoch 10; Train Loss 0.268938; Val Loss 0.385052; Train Acc 0.954224; Val Acc 0.945291\n",
            "Epoch 11; Train Loss 0.252832; Val Loss 0.337474; Train Acc 0.946814; Val Acc 0.952466\n",
            "Epoch 12; Train Loss 0.231508; Val Loss 0.327789; Train Acc 0.956858; Val Acc 0.950673\n",
            "Epoch 13; Train Loss 0.214991; Val Loss 0.295257; Train Acc 0.958011; Val Acc 0.952466\n",
            "Epoch 14; Train Loss 0.221393; Val Loss 0.250823; Train Acc 0.938745; Val Acc 0.957848\n",
            "Epoch 15; Train Loss 0.192403; Val Loss 0.266503; Train Acc 0.957846; Val Acc 0.949776\n",
            "Epoch 16; Train Loss 0.182468; Val Loss 0.226418; Train Acc 0.956694; Val Acc 0.958744\n",
            "Epoch 17; Train Loss 0.174904; Val Loss 0.217649; Train Acc 0.957023; Val Acc 0.958744\n",
            "Epoch 18; Train Loss 0.167043; Val Loss 0.222846; Train Acc 0.961304; Val Acc 0.953363\n",
            "Epoch 19; Train Loss 0.156624; Val Loss 0.191900; Train Acc 0.961469; Val Acc 0.963229\n",
            "Epoch 20; Train Loss 0.150764; Val Loss 0.176452; Train Acc 0.962292; Val Acc 0.965022\n",
            "--------------------Training Completed----------------------------\n",
            "Total time elapsed: 202.34 seconds\n"
          ]
        },
        {
          "data": {
            "image/png": "[encoded data removed]",
            "text/plain": [
              "<Figure size 432x288 with 1 Axes>"
            ]
          },
          "metadata": {
            "needs_background": "light"
          },
          "output_type": "display_data"
        },
        {
          "data": {
            "image/png": "[encoded data removed]",
            "text/plain": [
              "<Figure size 432x288 with 1 Axes>"
            ]
          },
          "metadata": {
            "needs_background": "light"
          },
          "output_type": "display_data"
        }
      ],
      "source": [
        "input_size = len(text_field.vocab)\n",
        "model4 = GRU(input_size, 30, out_type = 2)\n",
        "train_gru_network(model4, data, num_epochs=20, batch_size = 32, lr_rate=1e-4)"
      ]
    },
    {
      "cell_type": "code",
      "execution_count": 157,
      "metadata": {
        "colab": {
          "base_uri": "https://localhost:8080/"
        },
        "id": "hjjP6MFLyHfB",
        "outputId": "28f038bc-827b-40e6-ac41-7cf18aa2890d"
      },
      "outputs": [
        {
          "data": {
            "text/plain": [
              "<All keys matched successfully>"
            ]
          },
          "execution_count": 157,
          "metadata": {},
          "output_type": "execute_result"
        }
      ],
      "source": [
        "input_size = len(text_field.vocab)\n",
        "hidden_size = 30\n",
        "output_type = 2\n",
        "net = GRU(input_size, hidden_size, output_type)\n",
        "model_path = get_model_name(net.name, batch_size=16, learning_rate=1e-4, epoch=18)\n",
        "state = torch.load(model_path)\n",
        "net.load_state_dict(state)"
      ]
    },
    {
      "cell_type": "code",
      "execution_count": 158,
      "metadata": {
        "id": "7ggbQSdba91J"
      },
      "outputs": [],
      "source": [
        "# Create a Dataset of only spam validation examples\n",
        "valid_spam = data.Dataset(\n",
        "    [e for e in valid.examples if e.label == 1],\n",
        "    valid.fields)\n",
        "# Create a Dataset of only non-spam validation examples\n",
        "valid_nospam = data.Dataset(\n",
        "    [e for e in valid.examples if e.label == 0],\n",
        "    valid.fields)\n",
        "\n",
        "val_spam_iter = data.BucketIterator(valid_spam,\n",
        "                                           batch_size=32,\n",
        "                                           sort_key=lambda x: len(x.sms), # to minimize padding\n",
        "                                           sort_within_batch=True,        # sort within each batch\n",
        "                                           repeat=False)                  # repeat the iterator for many epochs\n",
        "\n",
        "val_nospam_iter = data.BucketIterator(valid_nospam,\n",
        "                                           batch_size=32,\n",
        "                                           sort_key=lambda x: len(x.sms), # to minimize padding\n",
        "                                           sort_within_batch=True,        # sort within each batch\n",
        "                                           repeat=False)                  # repeat the iterator for many epochs\n",
        "\n",
        "criterion = nn.CrossEntropyLoss()\n",
        "loss_spam, acc_spam = get_accuracy(net, val_spam_iter, criterion)\n",
        "loss_nospam, acc_nospam = get_accuracy(net, val_nospam_iter, criterion)"
      ]
    },
    {
      "cell_type": "code",
      "execution_count": 159,
      "metadata": {
        "colab": {
          "base_uri": "https://localhost:8080/"
        },
        "id": "0JcWXMST0YbU",
        "outputId": "210579d5-329d-4da5-a0fd-c2b3660ba755"
      },
      "outputs": [
        {
          "name": "stdout",
          "output_type": "stream",
          "text": [
            "False negative rate for validation set on best GRU: 0.096551724137931\n",
            "False positive rate for validation set on best GRU: 0.005154639175257714\n"
          ]
        }
      ],
      "source": [
        "print('False negative rate for validation set on best GRU:',1-acc_spam)\n",
        "print('False positive rate for validation set on best GRU:',1-acc_nospam)"
      ]
    },
    {
      "attachments": {},
      "cell_type": "markdown",
      "metadata": {
        "id": "QDlyRLUWqlG4"
      },
      "source": [
        "- The impact of False Positive vs False Negative will impact the user as for example in case user recieves a spam message but is classified as non spam by our model then user might click some wrong link and could be in trouble.\n",
        "- While, in case if the message is non spam but our model classifies as spam then the user would never know that message or might never receive that message in the inbox. Thus, both are equally important from a user's perspective."
      ]
    },
    {
      "attachments": {},
      "cell_type": "markdown",
      "metadata": {
        "id": "Gznefulsa91V"
      },
      "source": [
        "### 4. Evaluation"
      ]
    },
    {
      "cell_type": "code",
      "execution_count": 160,
      "metadata": {
        "colab": {
          "base_uri": "https://localhost:8080/"
        },
        "id": "D5L5D-A1a91W",
        "outputId": "d3ff0d3c-30b5-4cd9-c915-5bd66b01bb0b"
      },
      "outputs": [
        {
          "name": "stdout",
          "output_type": "stream",
          "text": [
            "Test Accuracy for best GRU model: 0.9685816876122083\n"
          ]
        }
      ],
      "source": [
        "test_loss, test_acc = get_accuracy(net, test_iter, criterion)\n",
        "print('Test Accuracy for best GRU model:',test_acc)"
      ]
    },
    {
      "cell_type": "code",
      "execution_count": 161,
      "metadata": {
        "id": "GFiAKztJa91Z"
      },
      "outputs": [],
      "source": [
        "# Create a Dataset of only spam test examples\n",
        "tt_spam = data.Dataset(\n",
        "    [e for e in test.examples if e.label == 1],\n",
        "    test.fields)\n",
        "\n",
        "# Create a Dataset of only non-spam test examples\n",
        "tt_nospam = data.Dataset(\n",
        "    [e for e in test.examples if e.label == 0],\n",
        "    test.fields)\n",
        "\n",
        "tt_spam_iter = data.BucketIterator(tt_spam,\n",
        "                                           batch_size=32,\n",
        "                                           sort_key=lambda x: len(x.sms), # to minimize padding\n",
        "                                           sort_within_batch=True,        # sort within each batch\n",
        "                                           repeat=False)                  # repeat the iterator for many epochs\n",
        "\n",
        "tt_nospam_iter = data.BucketIterator(tt_nospam,\n",
        "                                           batch_size=32,\n",
        "                                           sort_key=lambda x: len(x.sms), # to minimize padding\n",
        "                                           sort_within_batch=True,        # sort within each batch\n",
        "                                           repeat=False)                  # repeat the iterator for many epochs\n",
        "\n",
        "tt_l_s, tt_acc_s = get_accuracy(net, tt_spam_iter, criterion)\n",
        "tt_l_ns, tt_acc_ns = get_accuracy(net, tt_nospam_iter, criterion)"
      ]
    },
    {
      "cell_type": "code",
      "execution_count": 162,
      "metadata": {
        "colab": {
          "base_uri": "https://localhost:8080/"
        },
        "id": "wf_2SS9o4WzQ",
        "outputId": "6970a6fe-0516-4796-d453-91262e87fff5"
      },
      "outputs": [
        {
          "name": "stdout",
          "output_type": "stream",
          "text": [
            "False negative rate for test set on best GRU: 0.1333333333333333\n",
            "False positive rate for test set on best GRU: 0.013698630136986356\n"
          ]
        }
      ],
      "source": [
        "print('False negative rate for test set on best GRU:',1-tt_acc_s)\n",
        "print('False positive rate for test set on best GRU:',1-tt_acc_ns)"
      ]
    },
    {
      "cell_type": "markdown",
      "metadata": {
        "id": "pnv38_hgrOCu"
      },
      "source": [
        "0 = non-spam\n",
        "\n",
        "1 = spam"
      ]
    },
    {
      "cell_type": "code",
      "execution_count": 163,
      "metadata": {
        "colab": {
          "base_uri": "https://localhost:8080/"
        },
        "id": "h_2nSJq8a91b",
        "outputId": "0cba0cd7-50ae-4da7-9aee-383864718cd2"
      },
      "outputs": [
        {
          "name": "stdout",
          "output_type": "stream",
          "text": [
            "torch.Size([1, 30])\n"
          ]
        }
      ],
      "source": [
        "msg = \"machine learning is sooo cool!\"\n",
        "tokens = []\n",
        "\n",
        "for i in msg:\n",
        "  tokens.append(torch.tensor(text_field.vocab.stoi[i]))\n",
        "\n",
        "tokens = torch.LongTensor(tokens).unsqueeze(dim= 0)\n",
        "print(tokens.shape)"
      ]
    },
    {
      "cell_type": "code",
      "execution_count": 164,
      "metadata": {
        "colab": {
          "base_uri": "https://localhost:8080/"
        },
        "id": "eb1tRw734r5h",
        "outputId": "2613e834-1c00-466e-a1b3-e12c2e924368"
      },
      "outputs": [
        {
          "name": "stdout",
          "output_type": "stream",
          "text": [
            "Model predction of message: 0\n"
          ]
        }
      ],
      "source": [
        "output = net(tokens)\n",
        "pred = output.max(1, keepdim=True)[1]\n",
        "print('Model predction of message:',int(pred))\n"
      ]
    },
    {
      "cell_type": "code",
      "execution_count": 165,
      "metadata": {
        "colab": {
          "base_uri": "https://localhost:8080/"
        },
        "id": "Zet8QAUd5JX_",
        "outputId": "25cd2c37-a6f3-49bb-c691-9642a1cb1759"
      },
      "outputs": [
        {
          "name": "stdout",
          "output_type": "stream",
          "text": [
            "Probability prediction for the message as a spam message is: 0.100496307015419\n"
          ]
        }
      ],
      "source": [
        "import torch.nn.functional as F\n",
        "\n",
        "prob = F.softmax(output, dim=1)\n",
        "print('Probability prediction for the message as a spam message is:',float(prob[0][1]))"
      ]
    },
    {
      "cell_type": "markdown",
      "metadata": {
        "id": "rCLcihoMvl07"
      },
      "source": [
        "**Previous Likeness Based Spam Filtering Technique**: This approach uses memory-based, or instance-based, machine learning methods to classify incoming emails based to their resemblance to stored examples (e.g. training emails). The attributes of the email are used to create a multi-dimensional space vector, which is used to plot new instances as points. The new instances are afterward allocated to the most popular class of its K-closest training instances. This approach uses the k-nearest neighbor (kNN) for filtering spam emails.\n",
        "\n",
        "Additionally, other models like Naive Bayes, Simple Neural Network or Support Vector Machine models also can be used for spam detection."
      ]
    },
    {
      "attachments": {},
      "cell_type": "markdown",
      "metadata": {
        "id": "zIR3Q5l0v1HP"
      },
      "source": [
        "## PART B - Transfer Learning\n",
        "\n",
        "In this part we will compare our earlier model with one that takes advantage of a generative RNN model to improve the prediction. There are several ways to implement transfer learning with RNNs, here we will use an approach known as ULMFiT developed by fastai. Rather than rebuilding the model from scratch, we will take advantage of the fastai library.\n",
        "\n",
        "Provided below is some helper code to get you started.\n",
        "\n",
        "#### Helper Code"
      ]
    },
    {
      "cell_type": "code",
      "execution_count": 187,
      "metadata": {
        "colab": {
          "base_uri": "https://localhost:8080/"
        },
        "id": "5R-_BQyiAMoo",
        "outputId": "af849641-5e67-48e3-eef4-11dbb216a4ce"
      },
      "outputs": [
        {
          "name": "stdout",
          "output_type": "stream",
          "text": [
            "Requirement already satisfied: fastai in /usr/local/lib/python3.7/dist-packages (1.0.61)\n",
            "Requirement already satisfied: numexpr in /usr/local/lib/python3.7/dist-packages (from fastai) (2.8.1)\n",
            "Requirement already satisfied: matplotlib in /usr/local/lib/python3.7/dist-packages (from fastai) (3.2.2)\n",
            "Requirement already satisfied: requests in /usr/local/lib/python3.7/dist-packages (from fastai) (2.23.0)\n",
            "Requirement already satisfied: bottleneck in /usr/local/lib/python3.7/dist-packages (from fastai) (1.3.4)\n",
            "Requirement already satisfied: spacy>=2.0.18 in /usr/local/lib/python3.7/dist-packages (from fastai) (2.2.4)\n",
            "Requirement already satisfied: scipy in /usr/local/lib/python3.7/dist-packages (from fastai) (1.4.1)\n",
            "Requirement already satisfied: pandas in /usr/local/lib/python3.7/dist-packages (from fastai) (1.3.5)\n",
            "Requirement already satisfied: Pillow in /usr/local/lib/python3.7/dist-packages (from fastai) (7.1.2)\n",
            "Requirement already satisfied: torchvision in /usr/local/lib/python3.7/dist-packages (from fastai) (0.11.1+cu111)\n",
            "Requirement already satisfied: pyyaml in /usr/local/lib/python3.7/dist-packages (from fastai) (3.13)\n",
            "Requirement already satisfied: packaging in /usr/local/lib/python3.7/dist-packages (from fastai) (21.3)\n",
            "Requirement already satisfied: numpy>=1.15 in /usr/local/lib/python3.7/dist-packages (from fastai) (1.21.5)\n",
            "Requirement already satisfied: fastprogress>=0.2.1 in /usr/local/lib/python3.7/dist-packages (from fastai) (1.0.2)\n",
            "Requirement already satisfied: beautifulsoup4 in /usr/local/lib/python3.7/dist-packages (from fastai) (4.6.3)\n",
            "Requirement already satisfied: nvidia-ml-py3 in /usr/local/lib/python3.7/dist-packages (from fastai) (7.352.0)\n",
            "Requirement already satisfied: torch>=1.0.0 in /usr/local/lib/python3.7/dist-packages (from fastai) (1.10.0+cu111)\n",
            "Requirement already satisfied: setuptools in /usr/local/lib/python3.7/dist-packages (from spacy>=2.0.18->fastai) (57.4.0)\n",
            "Requirement already satisfied: murmurhash<1.1.0,>=0.28.0 in /usr/local/lib/python3.7/dist-packages (from spacy>=2.0.18->fastai) (1.0.6)\n",
            "Requirement already satisfied: catalogue<1.1.0,>=0.0.7 in /usr/local/lib/python3.7/dist-packages (from spacy>=2.0.18->fastai) (1.0.0)\n",
            "Requirement already satisfied: blis<0.5.0,>=0.4.0 in /usr/local/lib/python3.7/dist-packages (from spacy>=2.0.18->fastai) (0.4.1)\n",
            "Requirement already satisfied: cymem<2.1.0,>=2.0.2 in /usr/local/lib/python3.7/dist-packages (from spacy>=2.0.18->fastai) (2.0.6)\n",
            "Requirement already satisfied: srsly<1.1.0,>=1.0.2 in /usr/local/lib/python3.7/dist-packages (from spacy>=2.0.18->fastai) (1.0.5)\n",
            "Requirement already satisfied: plac<1.2.0,>=0.9.6 in /usr/local/lib/python3.7/dist-packages (from spacy>=2.0.18->fastai) (1.1.3)\n",
            "Requirement already satisfied: tqdm<5.0.0,>=4.38.0 in /usr/local/lib/python3.7/dist-packages (from spacy>=2.0.18->fastai) (4.63.0)\n",
            "Requirement already satisfied: preshed<3.1.0,>=3.0.2 in /usr/local/lib/python3.7/dist-packages (from spacy>=2.0.18->fastai) (3.0.6)\n",
            "Requirement already satisfied: wasabi<1.1.0,>=0.4.0 in /usr/local/lib/python3.7/dist-packages (from spacy>=2.0.18->fastai) (0.9.0)\n",
            "Requirement already satisfied: thinc==7.4.0 in /usr/local/lib/python3.7/dist-packages (from spacy>=2.0.18->fastai) (7.4.0)\n",
            "Requirement already satisfied: importlib-metadata>=0.20 in /usr/local/lib/python3.7/dist-packages (from catalogue<1.1.0,>=0.0.7->spacy>=2.0.18->fastai) (4.11.3)\n",
            "Requirement already satisfied: zipp>=0.5 in /usr/local/lib/python3.7/dist-packages (from importlib-metadata>=0.20->catalogue<1.1.0,>=0.0.7->spacy>=2.0.18->fastai) (3.7.0)\n",
            "Requirement already satisfied: typing-extensions>=3.6.4 in /usr/local/lib/python3.7/dist-packages (from importlib-metadata>=0.20->catalogue<1.1.0,>=0.0.7->spacy>=2.0.18->fastai) (3.10.0.2)\n",
            "Requirement already satisfied: chardet<4,>=3.0.2 in /usr/local/lib/python3.7/dist-packages (from requests->fastai) (3.0.4)\n",
            "Requirement already satisfied: urllib3!=1.25.0,!=1.25.1,<1.26,>=1.21.1 in /usr/local/lib/python3.7/dist-packages (from requests->fastai) (1.24.3)\n",
            "Requirement already satisfied: certifi>=2017.4.17 in /usr/local/lib/python3.7/dist-packages (from requests->fastai) (2021.10.8)\n",
            "Requirement already satisfied: idna<3,>=2.5 in /usr/local/lib/python3.7/dist-packages (from requests->fastai) (2.10)\n",
            "Requirement already satisfied: cycler>=0.10 in /usr/local/lib/python3.7/dist-packages (from matplotlib->fastai) (0.11.0)\n",
            "Requirement already satisfied: python-dateutil>=2.1 in /usr/local/lib/python3.7/dist-packages (from matplotlib->fastai) (2.8.2)\n",
            "Requirement already satisfied: pyparsing!=2.0.4,!=2.1.2,!=2.1.6,>=2.0.1 in /usr/local/lib/python3.7/dist-packages (from matplotlib->fastai) (3.0.7)\n",
            "Requirement already satisfied: kiwisolver>=1.0.1 in /usr/local/lib/python3.7/dist-packages (from matplotlib->fastai) (1.4.0)\n",
            "Requirement already satisfied: six>=1.5 in /usr/local/lib/python3.7/dist-packages (from python-dateutil>=2.1->matplotlib->fastai) (1.15.0)\n",
            "Requirement already satisfied: pytz>=2017.3 in /usr/local/lib/python3.7/dist-packages (from pandas->fastai) (2018.9)\n"
          ]
        }
      ],
      "source": [
        "# install relevant libraries\n",
        "!pip install fastai"
      ]
    },
    {
      "cell_type": "code",
      "execution_count": 189,
      "metadata": {
        "id": "316Xs5WBv0kg"
      },
      "outputs": [],
      "source": [
        "# load relevant libraries\n",
        "from fastai import * \n",
        "import pandas as pd\n",
        "import numpy as np\n",
        "from functools import partial\n",
        "import io\n",
        "import os\n",
        "from fastai.text import *"
      ]
    },
    {
      "cell_type": "code",
      "execution_count": 190,
      "metadata": {
        "colab": {
          "base_uri": "https://localhost:8080/"
        },
        "id": "MfoKX8tKAU4Q",
        "outputId": "7bea7f47-d0ce-431f-e66e-6b330040cde2"
      },
      "outputs": [
        {
          "name": "stdout",
          "output_type": "stream",
          "text": [
            "--2022-03-23 19:28:21--  https://archive.ics.uci.edu/ml/machine-learning-databases/00228/smsspamcollection.zip\n",
            "Resolving archive.ics.uci.edu (archive.ics.uci.edu)... 128.195.10.252\n",
            "Connecting to archive.ics.uci.edu (archive.ics.uci.edu)|128.195.10.252|:443... connected.\n",
            "HTTP request sent, awaiting response... 200 OK\n",
            "Length: 203415 (199K) [application/x-httpd-php]\n",
            "Saving to: ‘smsspamcollection.zip.5’\n",
            "\n",
            "smsspamcollection.z 100%[===================>] 198.65K   957KB/s    in 0.2s    \n",
            "\n",
            "2022-03-23 19:28:22 (957 KB/s) - ‘smsspamcollection.zip.5’ saved [203415/203415]\n",
            "\n",
            "Archive:  smsspamcollection.zip\n",
            "replace SMSSpamCollection? [y]es, [n]o, [A]ll, [N]one, [r]ename: A\n",
            "  inflating: SMSSpamCollection       \n",
            "  inflating: readme                  \n"
          ]
        }
      ],
      "source": [
        "# download SPAM data\n",
        "!wget https://archive.ics.uci.edu/ml/machine-learning-databases/00228/smsspamcollection.zip\n",
        "!unzip smsspamcollection.zip"
      ]
    },
    {
      "cell_type": "markdown",
      "metadata": {
        "id": "J4vSv4Z9QxTJ"
      },
      "source": [
        "This time we will load the data using pandas."
      ]
    },
    {
      "cell_type": "code",
      "execution_count": 191,
      "metadata": {
        "colab": {
          "base_uri": "https://localhost:8080/",
          "height": 206
        },
        "id": "RKPhLwlhAbv-",
        "outputId": "c42549a3-f077-424b-919f-8192ccd4f355"
      },
      "outputs": [
        {
          "data": {
            "text/html": [
              "\n",
              "  <div id=\"df-12393e42-2d73-42e8-afa8-14ca78269176\">\n",
              "    <div class=\"colab-df-container\">\n",
              "      <div>\n",
              "<style scoped>\n",
              "    .dataframe tbody tr th:only-of-type {\n",
              "        vertical-align: middle;\n",
              "    }\n",
              "\n",
              "    .dataframe tbody tr th {\n",
              "        vertical-align: top;\n",
              "    }\n",
              "\n",
              "    .dataframe thead th {\n",
              "        text-align: right;\n",
              "    }\n",
              "</style>\n",
              "<table border=\"1\" class=\"dataframe\">\n",
              "  <thead>\n",
              "    <tr style=\"text-align: right;\">\n",
              "      <th></th>\n",
              "      <th>target</th>\n",
              "      <th>text</th>\n",
              "    </tr>\n",
              "  </thead>\n",
              "  <tbody>\n",
              "    <tr>\n",
              "      <th>0</th>\n",
              "      <td>ham</td>\n",
              "      <td>Go until jurong point, crazy.. Available only ...</td>\n",
              "    </tr>\n",
              "    <tr>\n",
              "      <th>1</th>\n",
              "      <td>ham</td>\n",
              "      <td>Ok lar... Joking wif u oni...</td>\n",
              "    </tr>\n",
              "    <tr>\n",
              "      <th>2</th>\n",
              "      <td>spam</td>\n",
              "      <td>Free entry in 2 a wkly comp to win FA Cup fina...</td>\n",
              "    </tr>\n",
              "    <tr>\n",
              "      <th>3</th>\n",
              "      <td>ham</td>\n",
              "      <td>U dun say so early hor... U c already then say...</td>\n",
              "    </tr>\n",
              "    <tr>\n",
              "      <th>4</th>\n",
              "      <td>ham</td>\n",
              "      <td>Nah I don't think he goes to usf, he lives aro...</td>\n",
              "    </tr>\n",
              "  </tbody>\n",
              "</table>\n",
              "</div>\n",
              "      <button class=\"colab-df-convert\" onclick=\"convertToInteractive('df-12393e42-2d73-42e8-afa8-14ca78269176')\"\n",
              "              title=\"Convert this dataframe to an interactive table.\"\n",
              "              style=\"display:none;\">\n",
              "        \n",
              "  <svg xmlns=\"http://www.w3.org/2000/svg\" height=\"24px\"viewBox=\"0 0 24 24\"\n",
              "       width=\"24px\">\n",
              "    <path d=\"M0 0h24v24H0V0z\" fill=\"none\"/>\n",
              "    <path d=\"M18.56 5.44l.94 2.06.94-2.06 2.06-.94-2.06-.94-.94-2.06-.94 2.06-2.06.94zm-11 1L8.5 8.5l.94-2.06 2.06-.94-2.06-.94L8.5 2.5l-.94 2.06-2.06.94zm10 10l.94 2.06.94-2.06 2.06-.94-2.06-.94-.94-2.06-.94 2.06-2.06.94z\"/><path d=\"M17.41 7.96l-1.37-1.37c-.4-.4-.92-.59-1.43-.59-.52 0-1.04.2-1.43.59L10.3 9.45l-7.72 7.72c-.78.78-.78 2.05 0 2.83L4 21.41c.39.39.9.59 1.41.59.51 0 1.02-.2 1.41-.59l7.78-7.78 2.81-2.81c.8-.78.8-2.07 0-2.86zM5.41 20L4 18.59l7.72-7.72 1.47 1.35L5.41 20z\"/>\n",
              "  </svg>\n",
              "      </button>\n",
              "      \n",
              "  <style>\n",
              "    .colab-df-container {\n",
              "      display:flex;\n",
              "      flex-wrap:wrap;\n",
              "      gap: 12px;\n",
              "    }\n",
              "\n",
              "    .colab-df-convert {\n",
              "      background-color: #E8F0FE;\n",
              "      border: none;\n",
              "      border-radius: 50%;\n",
              "      cursor: pointer;\n",
              "      display: none;\n",
              "      fill: #1967D2;\n",
              "      height: 32px;\n",
              "      padding: 0 0 0 0;\n",
              "      width: 32px;\n",
              "    }\n",
              "\n",
              "    .colab-df-convert:hover {\n",
              "      background-color: #E2EBFA;\n",
              "      box-shadow: 0px 1px 2px rgba(60, 64, 67, 0.3), 0px 1px 3px 1px rgba(60, 64, 67, 0.15);\n",
              "      fill: #174EA6;\n",
              "    }\n",
              "\n",
              "    [theme=dark] .colab-df-convert {\n",
              "      background-color: #3B4455;\n",
              "      fill: #D2E3FC;\n",
              "    }\n",
              "\n",
              "    [theme=dark] .colab-df-convert:hover {\n",
              "      background-color: #434B5C;\n",
              "      box-shadow: 0px 1px 3px 1px rgba(0, 0, 0, 0.15);\n",
              "      filter: drop-shadow(0px 1px 2px rgba(0, 0, 0, 0.3));\n",
              "      fill: #FFFFFF;\n",
              "    }\n",
              "  </style>\n",
              "\n",
              "      <script>\n",
              "        const buttonEl =\n",
              "          document.querySelector('#df-12393e42-2d73-42e8-afa8-14ca78269176 button.colab-df-convert');\n",
              "        buttonEl.style.display =\n",
              "          google.colab.kernel.accessAllowed ? 'block' : 'none';\n",
              "\n",
              "        async function convertToInteractive(key) {\n",
              "          const element = document.querySelector('#df-12393e42-2d73-42e8-afa8-14ca78269176');\n",
              "          const dataTable =\n",
              "            await google.colab.kernel.invokeFunction('convertToInteractive',\n",
              "                                                     [key], {});\n",
              "          if (!dataTable) return;\n",
              "\n",
              "          const docLinkHtml = 'Like what you see? Visit the ' +\n",
              "            '<a target=\"_blank\" href=https://colab.research.google.com/notebooks/data_table.ipynb>data table notebook</a>'\n",
              "            + ' to learn more about interactive tables.';\n",
              "          element.innerHTML = '';\n",
              "          dataTable['output_type'] = 'display_data';\n",
              "          await google.colab.output.renderOutput(dataTable, element);\n",
              "          const docLink = document.createElement('div');\n",
              "          docLink.innerHTML = docLinkHtml;\n",
              "          element.appendChild(docLink);\n",
              "        }\n",
              "      </script>\n",
              "    </div>\n",
              "  </div>\n",
              "  "
            ],
            "text/plain": [
              "  target                                               text\n",
              "0    ham  Go until jurong point, crazy.. Available only ...\n",
              "1    ham                      Ok lar... Joking wif u oni...\n",
              "2   spam  Free entry in 2 a wkly comp to win FA Cup fina...\n",
              "3    ham  U dun say so early hor... U c already then say...\n",
              "4    ham  Nah I don't think he goes to usf, he lives aro..."
            ]
          },
          "execution_count": 191,
          "metadata": {},
          "output_type": "execute_result"
        }
      ],
      "source": [
        "# set up data and verify\n",
        "df1 = pd.read_csv('SMSSpamCollection', sep='\\t',  header=None, names=['target', 'text'])\n",
        "df1.head()"
      ]
    },
    {
      "cell_type": "code",
      "execution_count": 192,
      "metadata": {
        "colab": {
          "base_uri": "https://localhost:8080/"
        },
        "id": "rorC2T1yAfWY",
        "outputId": "dad8ddf7-ccca-420f-c4d1-1b059bf205b2"
      },
      "outputs": [
        {
          "data": {
            "text/plain": [
              "ham     4825\n",
              "spam     747\n",
              "Name: target, dtype: int64"
            ]
          },
          "execution_count": 192,
          "metadata": {},
          "output_type": "execute_result"
        }
      ],
      "source": [
        "# check distribution\n",
        "df1['target'].value_counts()"
      ]
    },
    {
      "cell_type": "markdown",
      "metadata": {
        "id": "snNazefHQ3yo"
      },
      "source": [
        "Split the data into training and validation datasets."
      ]
    },
    {
      "cell_type": "code",
      "execution_count": 193,
      "metadata": {
        "id": "i4WuVTDhArhc"
      },
      "outputs": [],
      "source": [
        "# split the data and check dimensions\n",
        "\n",
        "from sklearn.model_selection import train_test_split\n",
        "\n",
        "# split data into training and validation set\n",
        "df_trn, df_temp = train_test_split(df1, stratify = df1['target'], test_size = 0.4, random_state = 0)\n",
        "df_tt, df_val = train_test_split(df_temp, stratify = df_temp['target'], test_size = 0.5, random_state = 0)"
      ]
    },
    {
      "cell_type": "code",
      "execution_count": 194,
      "metadata": {
        "colab": {
          "base_uri": "https://localhost:8080/"
        },
        "id": "uyCkDbTRAyxk",
        "outputId": "67b13197-c4d4-4832-96ff-bbab0dd48946"
      },
      "outputs": [
        {
          "data": {
            "text/plain": [
              "((3343, 2), (1115, 2), (1114, 2))"
            ]
          },
          "execution_count": 194,
          "metadata": {},
          "output_type": "execute_result"
        }
      ],
      "source": [
        "df_trn.shape, df_val.shape, df_tt.shape"
      ]
    },
    {
      "cell_type": "markdown",
      "metadata": {
        "id": "kuGx5mebBfEm"
      },
      "source": [
        "### Create the language model\n",
        "Esentially, the language model contains the structure of the language (English in this case), allowing us to quickly use in a classification model, skipping the part of learning the semantics of the language from scratch.\n",
        "\n",
        "Creating a language model from scratch can be intensive due to the sheer size of data. Instead we will download the pre-trained model, which is a neural network (NN) with an AWD_LSTM architecture. By setting pretrained = True we say to fastai to download the weights from the trained model (a corpus of 103 MM of wikipedia articles)."
      ]
    },
    {
      "cell_type": "code",
      "execution_count": 195,
      "metadata": {
        "colab": {
          "base_uri": "https://localhost:8080/",
          "height": 72
        },
        "id": "S6yWJklsBdPp",
        "outputId": "7e9e759e-2508-4fcd-e774-33f2771e128c"
      },
      "outputs": [
        {
          "data": {
            "text/html": [
              "\n",
              "<style>\n",
              "    /* Turns off some styling */\n",
              "    progress {\n",
              "        /* gets rid of default border in Firefox and Opera. */\n",
              "        border: none;\n",
              "        /* Needs to be in here for Safari polyfill so background images work as expected. */\n",
              "        background-size: auto;\n",
              "    }\n",
              "    .progress-bar-interrupted, .progress-bar-interrupted::-webkit-progress-bar {\n",
              "        background: #F44336;\n",
              "    }\n",
              "</style>\n"
            ],
            "text/plain": [
              "<IPython.core.display.HTML object>"
            ]
          },
          "metadata": {},
          "output_type": "display_data"
        },
        {
          "data": {
            "text/html": [],
            "text/plain": [
              "<IPython.core.display.HTML object>"
            ]
          },
          "metadata": {},
          "output_type": "display_data"
        },
        {
          "name": "stderr",
          "output_type": "stream",
          "text": [
            "/usr/local/lib/python3.7/dist-packages/fastai/core.py:302: VisibleDeprecationWarning: Creating an ndarray from ragged nested sequences (which is a list-or-tuple of lists-or-tuples-or ndarrays with different lengths or shapes) is deprecated. If you meant to do this, you must specify 'dtype=object' when creating the ndarray.\n",
            "  return np.array(a, dtype=dtype, **kwargs)\n"
          ]
        },
        {
          "data": {
            "text/html": [
              "\n",
              "<style>\n",
              "    /* Turns off some styling */\n",
              "    progress {\n",
              "        /* gets rid of default border in Firefox and Opera. */\n",
              "        border: none;\n",
              "        /* Needs to be in here for Safari polyfill so background images work as expected. */\n",
              "        background-size: auto;\n",
              "    }\n",
              "    .progress-bar-interrupted, .progress-bar-interrupted::-webkit-progress-bar {\n",
              "        background: #F44336;\n",
              "    }\n",
              "</style>\n"
            ],
            "text/plain": [
              "<IPython.core.display.HTML object>"
            ]
          },
          "metadata": {},
          "output_type": "display_data"
        },
        {
          "data": {
            "text/html": [],
            "text/plain": [
              "<IPython.core.display.HTML object>"
            ]
          },
          "metadata": {},
          "output_type": "display_data"
        },
        {
          "data": {
            "text/html": [
              "\n",
              "<style>\n",
              "    /* Turns off some styling */\n",
              "    progress {\n",
              "        /* gets rid of default border in Firefox and Opera. */\n",
              "        border: none;\n",
              "        /* Needs to be in here for Safari polyfill so background images work as expected. */\n",
              "        background-size: auto;\n",
              "    }\n",
              "    .progress-bar-interrupted, .progress-bar-interrupted::-webkit-progress-bar {\n",
              "        background: #F44336;\n",
              "    }\n",
              "</style>\n"
            ],
            "text/plain": [
              "<IPython.core.display.HTML object>"
            ]
          },
          "metadata": {},
          "output_type": "display_data"
        },
        {
          "data": {
            "text/html": [],
            "text/plain": [
              "<IPython.core.display.HTML object>"
            ]
          },
          "metadata": {},
          "output_type": "display_data"
        }
      ],
      "source": [
        "# create pretrained language model data\n",
        "data_lm = TextLMDataBunch.from_df(train_df = df_trn, valid_df = df_val, test_df = df_tt, path = \"\")\n",
        "lang_mod = language_model_learner(data_lm,  arch = AWD_LSTM, pretrained = True, drop_mult=1.)"
      ]
    },
    {
      "cell_type": "markdown",
      "metadata": {
        "id": "lT_aVqCRB8DJ"
      },
      "source": [
        "### Testing the language model\n"
      ]
    },
    {
      "cell_type": "code",
      "execution_count": 196,
      "metadata": {
        "colab": {
          "base_uri": "https://localhost:8080/"
        },
        "id": "PlZgAMGbCZXY",
        "outputId": "02e596c1-10b5-456a-f5e9-be9f4591b064"
      },
      "outputs": [
        {
          "name": "stdout",
          "output_type": "stream",
          "text": [
            "The problem usually starts when three people get hit each year , but as a\n",
            "The problem usually starts when a person is on a car or with other persons\n",
            "The problem usually starts when players win a player . These players are often\n",
            "The problem usually starts when Jane Blake has been living to prepare for\n",
            "The problem usually starts when a player is killed in the running or as the\n"
          ]
        }
      ],
      "source": [
        "for i in range(5):\n",
        "  print(lang_mod.predict(\"The problem usually starts when\", n_words=10))"
      ]
    },
    {
      "cell_type": "markdown",
      "metadata": {
        "id": "8-9pK9cTCmFP"
      },
      "source": [
        "Each time we excecute the `predict`, we get a different random sentence, completed with the number of choosen words (`n_words`).\n",
        "\n",
        "Try your own sentences!"
      ]
    },
    {
      "cell_type": "markdown",
      "metadata": {
        "id": "Q8-HUwNYCqSO"
      },
      "source": [
        "### Fine-tuning the language model\n",
        "The language model that we have \"loaded\" is great for generating wikipedia-like sentances, but here we're more interested in generating data like our email dataset. \n",
        "\n",
        "Make sure to enable GPU for this step or it make takes several hours to train."
      ]
    },
    {
      "cell_type": "code",
      "execution_count": 197,
      "metadata": {
        "colab": {
          "base_uri": "https://localhost:8080/",
          "height": 554
        },
        "id": "2Z6lG13vRnbo",
        "outputId": "17ec4934-df12-4102-bb7c-b618c61dd2ac"
      },
      "outputs": [
        {
          "data": {
            "text/html": [
              "\n",
              "<style>\n",
              "    /* Turns off some styling */\n",
              "    progress {\n",
              "        /* gets rid of default border in Firefox and Opera. */\n",
              "        border: none;\n",
              "        /* Needs to be in here for Safari polyfill so background images work as expected. */\n",
              "        background-size: auto;\n",
              "    }\n",
              "    .progress-bar-interrupted, .progress-bar-interrupted::-webkit-progress-bar {\n",
              "        background: #F44336;\n",
              "    }\n",
              "</style>\n"
            ],
            "text/plain": [
              "<IPython.core.display.HTML object>"
            ]
          },
          "metadata": {},
          "output_type": "display_data"
        },
        {
          "data": {
            "text/html": [
              "<table border=\"1\" class=\"dataframe\">\n",
              "  <thead>\n",
              "    <tr style=\"text-align: left;\">\n",
              "      <th>epoch</th>\n",
              "      <th>train_loss</th>\n",
              "      <th>valid_loss</th>\n",
              "      <th>accuracy</th>\n",
              "      <th>time</th>\n",
              "    </tr>\n",
              "  </thead>\n",
              "  <tbody>\n",
              "    <tr>\n",
              "      <td>0</td>\n",
              "      <td>5.528905</td>\n",
              "      <td>4.560029</td>\n",
              "      <td>0.214286</td>\n",
              "      <td>00:05</td>\n",
              "    </tr>\n",
              "    <tr>\n",
              "      <td>1</td>\n",
              "      <td>4.839171</td>\n",
              "      <td>3.926204</td>\n",
              "      <td>0.257143</td>\n",
              "      <td>00:05</td>\n",
              "    </tr>\n",
              "    <tr>\n",
              "      <td>2</td>\n",
              "      <td>4.398044</td>\n",
              "      <td>3.759101</td>\n",
              "      <td>0.242857</td>\n",
              "      <td>00:05</td>\n",
              "    </tr>\n",
              "    <tr>\n",
              "      <td>3</td>\n",
              "      <td>4.080174</td>\n",
              "      <td>3.749260</td>\n",
              "      <td>0.242857</td>\n",
              "      <td>00:05</td>\n",
              "    </tr>\n",
              "  </tbody>\n",
              "</table>"
            ],
            "text/plain": [
              "<IPython.core.display.HTML object>"
            ]
          },
          "metadata": {},
          "output_type": "display_data"
        },
        {
          "data": {
            "text/html": [
              "\n",
              "<style>\n",
              "    /* Turns off some styling */\n",
              "    progress {\n",
              "        /* gets rid of default border in Firefox and Opera. */\n",
              "        border: none;\n",
              "        /* Needs to be in here for Safari polyfill so background images work as expected. */\n",
              "        background-size: auto;\n",
              "    }\n",
              "    .progress-bar-interrupted, .progress-bar-interrupted::-webkit-progress-bar {\n",
              "        background: #F44336;\n",
              "    }\n",
              "</style>\n"
            ],
            "text/plain": [
              "<IPython.core.display.HTML object>"
            ]
          },
          "metadata": {},
          "output_type": "display_data"
        },
        {
          "data": {
            "text/html": [
              "<table border=\"1\" class=\"dataframe\">\n",
              "  <thead>\n",
              "    <tr style=\"text-align: left;\">\n",
              "      <th>epoch</th>\n",
              "      <th>train_loss</th>\n",
              "      <th>valid_loss</th>\n",
              "      <th>accuracy</th>\n",
              "      <th>time</th>\n",
              "    </tr>\n",
              "  </thead>\n",
              "  <tbody>\n",
              "    <tr>\n",
              "      <td>0</td>\n",
              "      <td>3.575514</td>\n",
              "      <td>3.702281</td>\n",
              "      <td>0.257143</td>\n",
              "      <td>00:05</td>\n",
              "    </tr>\n",
              "    <tr>\n",
              "      <td>1</td>\n",
              "      <td>3.541660</td>\n",
              "      <td>3.689012</td>\n",
              "      <td>0.228571</td>\n",
              "      <td>00:05</td>\n",
              "    </tr>\n",
              "    <tr>\n",
              "      <td>2</td>\n",
              "      <td>3.489264</td>\n",
              "      <td>3.670880</td>\n",
              "      <td>0.271429</td>\n",
              "      <td>00:05</td>\n",
              "    </tr>\n",
              "  </tbody>\n",
              "</table>"
            ],
            "text/plain": [
              "<IPython.core.display.HTML object>"
            ]
          },
          "metadata": {},
          "output_type": "display_data"
        },
        {
          "data": {
            "text/html": [
              "\n",
              "<style>\n",
              "    /* Turns off some styling */\n",
              "    progress {\n",
              "        /* gets rid of default border in Firefox and Opera. */\n",
              "        border: none;\n",
              "        /* Needs to be in here for Safari polyfill so background images work as expected. */\n",
              "        background-size: auto;\n",
              "    }\n",
              "    .progress-bar-interrupted, .progress-bar-interrupted::-webkit-progress-bar {\n",
              "        background: #F44336;\n",
              "    }\n",
              "</style>\n"
            ],
            "text/plain": [
              "<IPython.core.display.HTML object>"
            ]
          },
          "metadata": {},
          "output_type": "display_data"
        },
        {
          "data": {
            "text/html": [
              "<table border=\"1\" class=\"dataframe\">\n",
              "  <thead>\n",
              "    <tr style=\"text-align: left;\">\n",
              "      <th>epoch</th>\n",
              "      <th>train_loss</th>\n",
              "      <th>valid_loss</th>\n",
              "      <th>accuracy</th>\n",
              "      <th>time</th>\n",
              "    </tr>\n",
              "  </thead>\n",
              "  <tbody>\n",
              "    <tr>\n",
              "      <td>0</td>\n",
              "      <td>3.388561</td>\n",
              "      <td>3.648182</td>\n",
              "      <td>0.242857</td>\n",
              "      <td>00:05</td>\n",
              "    </tr>\n",
              "    <tr>\n",
              "      <td>1</td>\n",
              "      <td>3.380728</td>\n",
              "      <td>3.622789</td>\n",
              "      <td>0.242857</td>\n",
              "      <td>00:05</td>\n",
              "    </tr>\n",
              "    <tr>\n",
              "      <td>2</td>\n",
              "      <td>3.363908</td>\n",
              "      <td>3.617648</td>\n",
              "      <td>0.257143</td>\n",
              "      <td>00:05</td>\n",
              "    </tr>\n",
              "  </tbody>\n",
              "</table>"
            ],
            "text/plain": [
              "<IPython.core.display.HTML object>"
            ]
          },
          "metadata": {},
          "output_type": "display_data"
        },
        {
          "data": {
            "text/html": [
              "\n",
              "<style>\n",
              "    /* Turns off some styling */\n",
              "    progress {\n",
              "        /* gets rid of default border in Firefox and Opera. */\n",
              "        border: none;\n",
              "        /* Needs to be in here for Safari polyfill so background images work as expected. */\n",
              "        background-size: auto;\n",
              "    }\n",
              "    .progress-bar-interrupted, .progress-bar-interrupted::-webkit-progress-bar {\n",
              "        background: #F44336;\n",
              "    }\n",
              "</style>\n"
            ],
            "text/plain": [
              "<IPython.core.display.HTML object>"
            ]
          },
          "metadata": {},
          "output_type": "display_data"
        },
        {
          "data": {
            "text/html": [
              "<table border=\"1\" class=\"dataframe\">\n",
              "  <thead>\n",
              "    <tr style=\"text-align: left;\">\n",
              "      <th>epoch</th>\n",
              "      <th>train_loss</th>\n",
              "      <th>valid_loss</th>\n",
              "      <th>accuracy</th>\n",
              "      <th>time</th>\n",
              "    </tr>\n",
              "  </thead>\n",
              "  <tbody>\n",
              "    <tr>\n",
              "      <td>0</td>\n",
              "      <td>3.320828</td>\n",
              "      <td>3.599648</td>\n",
              "      <td>0.257143</td>\n",
              "      <td>00:06</td>\n",
              "    </tr>\n",
              "    <tr>\n",
              "      <td>1</td>\n",
              "      <td>3.287883</td>\n",
              "      <td>3.561395</td>\n",
              "      <td>0.242857</td>\n",
              "      <td>00:06</td>\n",
              "    </tr>\n",
              "    <tr>\n",
              "      <td>2</td>\n",
              "      <td>3.259069</td>\n",
              "      <td>3.561014</td>\n",
              "      <td>0.257143</td>\n",
              "      <td>00:06</td>\n",
              "    </tr>\n",
              "  </tbody>\n",
              "</table>"
            ],
            "text/plain": [
              "<IPython.core.display.HTML object>"
            ]
          },
          "metadata": {},
          "output_type": "display_data"
        }
      ],
      "source": [
        "# fine-tune language model data\n",
        "lang_mod.fit_one_cycle(4, max_lr= 5e-02)\n",
        "lang_mod.freeze_to(-1)\n",
        "lang_mod.fit_one_cycle(3, slice(1e-2/(2.6**4), 1e-2))\n",
        "lang_mod.freeze_to(-2)\n",
        "lang_mod.fit_one_cycle(3, slice(3e-3/(2.6**4), 1e-3))\n",
        "lang_mod.unfreeze()\n",
        "lang_mod.fit_one_cycle(3, slice(3e-3/(2.6**4), 1e-3))\n",
        "\n",
        "# save language model\n",
        "lang_mod.save_encoder('my_awsome_encoder')"
      ]
    },
    {
      "cell_type": "markdown",
      "metadata": {
        "id": "KT-Y6pB1SrGg"
      },
      "source": [
        "### Classification model\n",
        "Now we can train a classification model that will identify spam and non-spam messages. Since we used a fastai language model, it will be easier to just continue working with the fastai library."
      ]
    },
    {
      "cell_type": "code",
      "execution_count": 198,
      "metadata": {
        "colab": {
          "base_uri": "https://localhost:8080/",
          "height": 123
        },
        "id": "MIvfaeOfTDZV",
        "outputId": "404ef990-92f1-428e-b4b6-573bedd67761"
      },
      "outputs": [
        {
          "data": {
            "text/html": [
              "\n",
              "<style>\n",
              "    /* Turns off some styling */\n",
              "    progress {\n",
              "        /* gets rid of default border in Firefox and Opera. */\n",
              "        border: none;\n",
              "        /* Needs to be in here for Safari polyfill so background images work as expected. */\n",
              "        background-size: auto;\n",
              "    }\n",
              "    .progress-bar-interrupted, .progress-bar-interrupted::-webkit-progress-bar {\n",
              "        background: #F44336;\n",
              "    }\n",
              "</style>\n"
            ],
            "text/plain": [
              "<IPython.core.display.HTML object>"
            ]
          },
          "metadata": {},
          "output_type": "display_data"
        },
        {
          "data": {
            "text/html": [],
            "text/plain": [
              "<IPython.core.display.HTML object>"
            ]
          },
          "metadata": {},
          "output_type": "display_data"
        },
        {
          "name": "stderr",
          "output_type": "stream",
          "text": [
            "/usr/local/lib/python3.7/dist-packages/fastai/core.py:302: VisibleDeprecationWarning: Creating an ndarray from ragged nested sequences (which is a list-or-tuple of lists-or-tuples-or ndarrays with different lengths or shapes) is deprecated. If you meant to do this, you must specify 'dtype=object' when creating the ndarray.\n",
            "  return np.array(a, dtype=dtype, **kwargs)\n"
          ]
        },
        {
          "data": {
            "text/html": [
              "\n",
              "<style>\n",
              "    /* Turns off some styling */\n",
              "    progress {\n",
              "        /* gets rid of default border in Firefox and Opera. */\n",
              "        border: none;\n",
              "        /* Needs to be in here for Safari polyfill so background images work as expected. */\n",
              "        background-size: auto;\n",
              "    }\n",
              "    .progress-bar-interrupted, .progress-bar-interrupted::-webkit-progress-bar {\n",
              "        background: #F44336;\n",
              "    }\n",
              "</style>\n"
            ],
            "text/plain": [
              "<IPython.core.display.HTML object>"
            ]
          },
          "metadata": {},
          "output_type": "display_data"
        },
        {
          "data": {
            "text/html": [],
            "text/plain": [
              "<IPython.core.display.HTML object>"
            ]
          },
          "metadata": {},
          "output_type": "display_data"
        },
        {
          "data": {
            "text/html": [
              "\n",
              "<style>\n",
              "    /* Turns off some styling */\n",
              "    progress {\n",
              "        /* gets rid of default border in Firefox and Opera. */\n",
              "        border: none;\n",
              "        /* Needs to be in here for Safari polyfill so background images work as expected. */\n",
              "        background-size: auto;\n",
              "    }\n",
              "    .progress-bar-interrupted, .progress-bar-interrupted::-webkit-progress-bar {\n",
              "        background: #F44336;\n",
              "    }\n",
              "</style>\n"
            ],
            "text/plain": [
              "<IPython.core.display.HTML object>"
            ]
          },
          "metadata": {},
          "output_type": "display_data"
        },
        {
          "data": {
            "text/html": [],
            "text/plain": [
              "<IPython.core.display.HTML object>"
            ]
          },
          "metadata": {},
          "output_type": "display_data"
        },
        {
          "name": "stderr",
          "output_type": "stream",
          "text": [
            "/usr/local/lib/python3.7/dist-packages/fastai/text/data.py:124: VisibleDeprecationWarning: Creating an ndarray from ragged nested sequences (which is a list-or-tuple of lists-or-tuples-or ndarrays with different lengths or shapes) is deprecated. If you meant to do this, you must specify 'dtype=object' when creating the ndarray.\n",
            "  sort_idx = np.concatenate(np.random.permutation(ck_idx[1:])) if len(ck_idx) > 1 else np.array([],dtype=np.int)\n",
            "<string>:6: VisibleDeprecationWarning: Creating an ndarray from ragged nested sequences (which is a list-or-tuple of lists-or-tuples-or ndarrays with different lengths or shapes) is deprecated. If you meant to do this, you must specify 'dtype=object' when creating the ndarray.\n"
          ]
        }
      ],
      "source": [
        "# Classifier model data\n",
        "data_clas = TextClasDataBunch.from_df(path = \"\", train_df = df_trn,  valid_df = df_val, test_df = df_tt, vocab=data_lm.train_ds.vocab, bs=32)"
      ]
    },
    {
      "cell_type": "code",
      "execution_count": 199,
      "metadata": {
        "colab": {
          "base_uri": "https://localhost:8080/",
          "height": 364
        },
        "id": "Kc2fiXTCTjHh",
        "outputId": "e127850f-4cbf-4da2-931c-845294fbe228"
      },
      "outputs": [
        {
          "name": "stderr",
          "output_type": "stream",
          "text": [
            "/usr/local/lib/python3.7/dist-packages/fastai/text/data.py:124: VisibleDeprecationWarning: Creating an ndarray from ragged nested sequences (which is a list-or-tuple of lists-or-tuples-or ndarrays with different lengths or shapes) is deprecated. If you meant to do this, you must specify 'dtype=object' when creating the ndarray.\n",
            "  sort_idx = np.concatenate(np.random.permutation(ck_idx[1:])) if len(ck_idx) > 1 else np.array([],dtype=np.int)\n",
            "<string>:6: VisibleDeprecationWarning: Creating an ndarray from ragged nested sequences (which is a list-or-tuple of lists-or-tuples-or ndarrays with different lengths or shapes) is deprecated. If you meant to do this, you must specify 'dtype=object' when creating the ndarray.\n"
          ]
        },
        {
          "data": {
            "text/html": [
              "<table border=\"1\" class=\"dataframe\">\n",
              "  <thead>\n",
              "    <tr style=\"text-align: right;\">\n",
              "      <th>text</th>\n",
              "      <th>target</th>\n",
              "    </tr>\n",
              "  </thead>\n",
              "  <tbody>\n",
              "    <tr>\n",
              "      <td>xxbos xxmaj the last thing i ever wanted to do was hurt you . xxmaj and i did n't think it would have . xxmaj you 'd laugh , be embarassed , delete the xxunk and keep going . xxmaj but as far as i knew , it was n't even up . xxmaj the fact that you even felt like i would do it to hurt you shows you</td>\n",
              "      <td>ham</td>\n",
              "    </tr>\n",
              "    <tr>\n",
              "      <td>xxbos xxmaj for me the love should start with xxunk should feel that i need her every time around xxunk should be the first thing which comes in my thoughts . i would start the day and end it with xxunk should be there every time i xxunk will be then when my every breath has her xxunk life should happen around xxunk life will be named to her .</td>\n",
              "      <td>ham</td>\n",
              "    </tr>\n",
              "    <tr>\n",
              "      <td>xxbos xxmaj how to xxmaj make a girl xxmaj happy ? xxmaj it 's not at all difficult to make girls happy . u only need to be ... 1 . a friend 2 . xxmaj xxunk 3 . xxmaj lover 4 . xxmaj xxunk . . . &lt; # &gt; . xxmaj good xxunk &lt; # &gt; . xxmaj xxunk &lt; # &gt; . xxmaj good boyfriend &lt; #</td>\n",
              "      <td>ham</td>\n",
              "    </tr>\n",
              "    <tr>\n",
              "      <td>xxbos a xxmaj boy loved a gal . xxmaj he propsd bt she did nt mind . xxmaj he gv lv lttrs , xxmaj bt her frnds threw thm . xxmaj again d boy decided 2 aproach d gal , dt time a truck was speeding towards d gal . xxmaj wn it was about 2 hit d girl , d boy ran like hell n saved her . xxmaj</td>\n",
              "      <td>ham</td>\n",
              "    </tr>\n",
              "    <tr>\n",
              "      <td>xxbos xxmaj xxunk msg : xxmaj wen u lift d xxunk , u say \" xxup hello \" xxmaj do u knw xxunk is d real meaning of xxup hello ? ? . . . xxmaj it 's d name of a girl .. ! . . . xxmaj yes .. xxmaj and u knw who is dat girl ? ? \" xxmaj xxunk xxmaj hello \" xxmaj she is</td>\n",
              "      <td>ham</td>\n",
              "    </tr>\n",
              "  </tbody>\n",
              "</table>"
            ],
            "text/plain": [
              "<IPython.core.display.HTML object>"
            ]
          },
          "metadata": {},
          "output_type": "display_data"
        }
      ],
      "source": [
        "data_clas.show_batch()"
      ]
    },
    {
      "cell_type": "code",
      "execution_count": 200,
      "metadata": {
        "id": "6sjwotSITjHi"
      },
      "outputs": [],
      "source": [
        "# create the classifier\n",
        "learn_classifier = text_classifier_learner(data_clas, drop_mult=0.7, arch = AWD_LSTM)"
      ]
    },
    {
      "cell_type": "code",
      "execution_count": 237,
      "metadata": {
        "colab": {
          "base_uri": "https://localhost:8080/"
        },
        "id": "sfzqId9jTjHi",
        "outputId": "6106e3b2-57c9-47c1-862a-d6f4db26696a"
      },
      "outputs": [
        {
          "data": {
            "text/plain": [
              "RNNLearner(data=TextClasDataBunch;\n",
              "\n",
              "Train: LabelList (3343 items)\n",
              "x: TextList\n",
              "xxbos xxmaj every xxmaj king xxmaj was xxmaj once a xxmaj xxunk xxmaj baby xxmaj and xxmaj every xxmaj great xxmaj building xxmaj was xxmaj once a xxmaj xxunk .. xxmaj not xxmaj xxunk xxmaj where u r xxup today , xxup but xxmaj where u xxmaj wil xxmaj reach xxup xxunk . xxmaj gud ni8,xxbos xxmaj can you plz tell me the ans . xxup bslvyl sent via fullonsms.com,xxbos xxmaj as a valued customer , i am pleased to advise you that following recent review of your xxmaj mob xxmaj no . you are awarded with a £ 1500 xxmaj bonus xxmaj prize , call xxunk,xxbos xxunk : xxmaj to use your credit , click the xxup wap link in the next txt message or click here > > http : / / wap . xxunk,xxbos xxmaj is xy going 4 e lunch ?\n",
              "y: CategoryList\n",
              "ham,ham,spam,spam,ham\n",
              "Path: .;\n",
              "\n",
              "Valid: LabelList (1115 items)\n",
              "x: TextList\n",
              "xxbos xxmaj hi , can i please get a < # > xxunk loan from you . xxmaj i.ll pay you back by mid xxunk . xxmaj pls .,xxbos i 'm in a meeting , call me later at,xxbos u free on sat rite ? u wan 2 watch infernal affairs wif me n darren n mayb xy ?,xxbos xxmaj aight do you still want to get money,xxbos xxmaj also fuck you and your family for going to xxunk xxunk or wherever the fuck and leaving me all alone the week i have a new xxunk xxunk\n",
              "y: CategoryList\n",
              "ham,ham,ham,ham,ham\n",
              "Path: .;\n",
              "\n",
              "Test: LabelList (1114 items)\n",
              "x: TextList\n",
              "xxbos xxmaj it did nt work again oh . xxmaj ok goodnight then . xxmaj i.ll xxunk and have it ready by the time you wake up . xxmaj you are very xxunk missed have a good night sleep .,xxbos xxmaj book which lesson ? then you msg me ... i will call up after work or xxunk ... i 'm going to get xxunk . xxmaj my xxunk is xxup xxunk,xxbos xxmaj xxunk space xxunk , u ?,xxbos xxmaj oh ... xxmaj haha ... xxmaj den we shld had went today too ... xxmaj gee , nvm la ... xxmaj xxunk , i dun mind goin jazz oso ... xxmaj scared xxunk open ca nt catch up ...,xxbos k , wait chikku .. il send aftr < # > mins\n",
              "y: EmptyLabelList\n",
              ",,,,\n",
              "Path: ., model=SequentialRNN(\n",
              "  (0): MultiBatchEncoder(\n",
              "    (module): AWD_LSTM(\n",
              "      (encoder): Embedding(3184, 400, padding_idx=1)\n",
              "      (encoder_dp): EmbeddingDropout(\n",
              "        (emb): Embedding(3184, 400, padding_idx=1)\n",
              "      )\n",
              "      (rnns): ModuleList(\n",
              "        (0): WeightDropout(\n",
              "          (module): LSTM(400, 1152, batch_first=True)\n",
              "        )\n",
              "        (1): WeightDropout(\n",
              "          (module): LSTM(1152, 1152, batch_first=True)\n",
              "        )\n",
              "        (2): WeightDropout(\n",
              "          (module): LSTM(1152, 400, batch_first=True)\n",
              "        )\n",
              "      )\n",
              "      (input_dp): RNNDropout()\n",
              "      (hidden_dps): ModuleList(\n",
              "        (0): RNNDropout()\n",
              "        (1): RNNDropout()\n",
              "        (2): RNNDropout()\n",
              "      )\n",
              "    )\n",
              "  )\n",
              "  (1): PoolingLinearClassifier(\n",
              "    (layers): Sequential(\n",
              "      (0): BatchNorm1d(1200, eps=1e-05, momentum=0.1, affine=True, track_running_stats=True)\n",
              "      (1): Dropout(p=0.27999999999999997, inplace=False)\n",
              "      (2): Linear(in_features=1200, out_features=50, bias=True)\n",
              "      (3): ReLU(inplace=True)\n",
              "      (4): BatchNorm1d(50, eps=1e-05, momentum=0.1, affine=True, track_running_stats=True)\n",
              "      (5): Dropout(p=0.1, inplace=False)\n",
              "      (6): Linear(in_features=50, out_features=2, bias=True)\n",
              "    )\n",
              "  )\n",
              "), opt_func=functools.partial(<class 'torch.optim.adam.Adam'>, betas=(0.9, 0.99)), loss_func=FlattenedLoss of CrossEntropyLoss(), metrics=[<function accuracy at 0x7efaee0b4b90>], true_wd=True, bn_wd=True, wd=0.01, train_bn=True, path=PosixPath('.'), model_dir='models', callback_fns=[functools.partial(<class 'fastai.basic_train.Recorder'>, add_time=True, silent=False)], callbacks=[RNNTrainer\n",
              "learn: ...\n",
              "alpha: 2.0\n",
              "beta: 1.0], layer_groups=[Sequential(\n",
              "  (0): Embedding(3184, 400, padding_idx=1)\n",
              "  (1): EmbeddingDropout(\n",
              "    (emb): Embedding(3184, 400, padding_idx=1)\n",
              "  )\n",
              "), Sequential(\n",
              "  (0): WeightDropout(\n",
              "    (module): LSTM(400, 1152, batch_first=True)\n",
              "  )\n",
              "  (1): RNNDropout()\n",
              "), Sequential(\n",
              "  (0): WeightDropout(\n",
              "    (module): LSTM(1152, 1152, batch_first=True)\n",
              "  )\n",
              "  (1): RNNDropout()\n",
              "), Sequential(\n",
              "  (0): WeightDropout(\n",
              "    (module): LSTM(1152, 400, batch_first=True)\n",
              "  )\n",
              "  (1): RNNDropout()\n",
              "), Sequential(\n",
              "  (0): PoolingLinearClassifier(\n",
              "    (layers): Sequential(\n",
              "      (0): BatchNorm1d(1200, eps=1e-05, momentum=0.1, affine=True, track_running_stats=True)\n",
              "      (1): Dropout(p=0.27999999999999997, inplace=False)\n",
              "      (2): Linear(in_features=1200, out_features=50, bias=True)\n",
              "      (3): ReLU(inplace=True)\n",
              "      (4): BatchNorm1d(50, eps=1e-05, momentum=0.1, affine=True, track_running_stats=True)\n",
              "      (5): Dropout(p=0.1, inplace=False)\n",
              "      (6): Linear(in_features=50, out_features=2, bias=True)\n",
              "    )\n",
              "  )\n",
              ")], add_time=True, silent=False)"
            ]
          },
          "execution_count": 237,
          "metadata": {},
          "output_type": "execute_result"
        }
      ],
      "source": [
        "# load language model\n",
        "learn_classifier.load_encoder('my_awsome_encoder')"
      ]
    },
    {
      "cell_type": "code",
      "execution_count": 202,
      "metadata": {
        "colab": {
          "base_uri": "https://localhost:8080/",
          "height": 485
        },
        "id": "yQzxgvqSTjHi",
        "outputId": "74c6e932-a73d-4b86-97c1-65f4da634445"
      },
      "outputs": [
        {
          "data": {
            "text/html": [
              "\n",
              "<style>\n",
              "    /* Turns off some styling */\n",
              "    progress {\n",
              "        /* gets rid of default border in Firefox and Opera. */\n",
              "        border: none;\n",
              "        /* Needs to be in here for Safari polyfill so background images work as expected. */\n",
              "        background-size: auto;\n",
              "    }\n",
              "    .progress-bar-interrupted, .progress-bar-interrupted::-webkit-progress-bar {\n",
              "        background: #F44336;\n",
              "    }\n",
              "</style>\n"
            ],
            "text/plain": [
              "<IPython.core.display.HTML object>"
            ]
          },
          "metadata": {},
          "output_type": "display_data"
        },
        {
          "data": {
            "text/html": [
              "\n",
              "    <div>\n",
              "      <progress value='0' class='' max='1' style='width:300px; height:20px; vertical-align: middle;'></progress>\n",
              "      0.00% [0/1 00:00<00:00]\n",
              "    </div>\n",
              "    \n",
              "<table border=\"1\" class=\"dataframe\">\n",
              "  <thead>\n",
              "    <tr style=\"text-align: left;\">\n",
              "      <th>epoch</th>\n",
              "      <th>train_loss</th>\n",
              "      <th>valid_loss</th>\n",
              "      <th>accuracy</th>\n",
              "      <th>time</th>\n",
              "    </tr>\n",
              "  </thead>\n",
              "  <tbody>\n",
              "  </tbody>\n",
              "</table><p>\n",
              "\n",
              "    <div>\n",
              "      <progress value='92' class='' max='104' style='width:300px; height:20px; vertical-align: middle;'></progress>\n",
              "      88.46% [92/104 00:04<00:00 0.9567]\n",
              "    </div>\n",
              "    "
            ],
            "text/plain": [
              "<IPython.core.display.HTML object>"
            ]
          },
          "metadata": {},
          "output_type": "display_data"
        },
        {
          "name": "stderr",
          "output_type": "stream",
          "text": [
            "/usr/local/lib/python3.7/dist-packages/fastai/text/data.py:124: VisibleDeprecationWarning: Creating an ndarray from ragged nested sequences (which is a list-or-tuple of lists-or-tuples-or ndarrays with different lengths or shapes) is deprecated. If you meant to do this, you must specify 'dtype=object' when creating the ndarray.\n",
            "  sort_idx = np.concatenate(np.random.permutation(ck_idx[1:])) if len(ck_idx) > 1 else np.array([],dtype=np.int)\n",
            "<string>:6: VisibleDeprecationWarning: Creating an ndarray from ragged nested sequences (which is a list-or-tuple of lists-or-tuples-or ndarrays with different lengths or shapes) is deprecated. If you meant to do this, you must specify 'dtype=object' when creating the ndarray.\n"
          ]
        },
        {
          "name": "stdout",
          "output_type": "stream",
          "text": [
            "LR Finder is complete, type {learner_name}.recorder.plot() to see the graph.\n",
            "Min numerical gradient: 5.75E-04\n",
            "Min loss divided by 10: 2.09E-02\n"
          ]
        },
        {
          "data": {
            "image/png": "[encoded data removed]",
            "text/plain": [
              "<Figure size 432x288 with 1 Axes>"
            ]
          },
          "metadata": {
            "needs_background": "light"
          },
          "output_type": "display_data"
        }
      ],
      "source": [
        "# train classifier\n",
        "learn_classifier.lr_find()\n",
        "learn_classifier.recorder.plot(suggestion=True)"
      ]
    },
    {
      "cell_type": "code",
      "execution_count": 203,
      "metadata": {
        "colab": {
          "base_uri": "https://localhost:8080/",
          "height": 486
        },
        "id": "7boiRtwsTjHi",
        "outputId": "b0cba87a-e7d0-4d39-a6c3-b91396d6b97a"
      },
      "outputs": [
        {
          "data": {
            "text/html": [
              "\n",
              "<style>\n",
              "    /* Turns off some styling */\n",
              "    progress {\n",
              "        /* gets rid of default border in Firefox and Opera. */\n",
              "        border: none;\n",
              "        /* Needs to be in here for Safari polyfill so background images work as expected. */\n",
              "        background-size: auto;\n",
              "    }\n",
              "    .progress-bar-interrupted, .progress-bar-interrupted::-webkit-progress-bar {\n",
              "        background: #F44336;\n",
              "    }\n",
              "</style>\n"
            ],
            "text/plain": [
              "<IPython.core.display.HTML object>"
            ]
          },
          "metadata": {},
          "output_type": "display_data"
        },
        {
          "data": {
            "text/html": [
              "<table border=\"1\" class=\"dataframe\">\n",
              "  <thead>\n",
              "    <tr style=\"text-align: left;\">\n",
              "      <th>epoch</th>\n",
              "      <th>train_loss</th>\n",
              "      <th>valid_loss</th>\n",
              "      <th>accuracy</th>\n",
              "      <th>time</th>\n",
              "    </tr>\n",
              "  </thead>\n",
              "  <tbody>\n",
              "    <tr>\n",
              "      <td>0</td>\n",
              "      <td>4.685187</td>\n",
              "      <td>0.401108</td>\n",
              "      <td>0.896861</td>\n",
              "      <td>00:06</td>\n",
              "    </tr>\n",
              "    <tr>\n",
              "      <td>1</td>\n",
              "      <td>10.692807</td>\n",
              "      <td>4.279727</td>\n",
              "      <td>0.865471</td>\n",
              "      <td>00:06</td>\n",
              "    </tr>\n",
              "    <tr>\n",
              "      <td>2</td>\n",
              "      <td>2.972250</td>\n",
              "      <td>0.106031</td>\n",
              "      <td>0.970404</td>\n",
              "      <td>00:07</td>\n",
              "    </tr>\n",
              "    <tr>\n",
              "      <td>3</td>\n",
              "      <td>0.583608</td>\n",
              "      <td>0.084325</td>\n",
              "      <td>0.968610</td>\n",
              "      <td>00:07</td>\n",
              "    </tr>\n",
              "    <tr>\n",
              "      <td>4</td>\n",
              "      <td>0.249046</td>\n",
              "      <td>0.119580</td>\n",
              "      <td>0.959641</td>\n",
              "      <td>00:07</td>\n",
              "    </tr>\n",
              "  </tbody>\n",
              "</table>"
            ],
            "text/plain": [
              "<IPython.core.display.HTML object>"
            ]
          },
          "metadata": {},
          "output_type": "display_data"
        },
        {
          "name": "stderr",
          "output_type": "stream",
          "text": [
            "/usr/local/lib/python3.7/dist-packages/fastai/text/data.py:124: VisibleDeprecationWarning: Creating an ndarray from ragged nested sequences (which is a list-or-tuple of lists-or-tuples-or ndarrays with different lengths or shapes) is deprecated. If you meant to do this, you must specify 'dtype=object' when creating the ndarray.\n",
            "  sort_idx = np.concatenate(np.random.permutation(ck_idx[1:])) if len(ck_idx) > 1 else np.array([],dtype=np.int)\n",
            "<string>:6: VisibleDeprecationWarning: Creating an ndarray from ragged nested sequences (which is a list-or-tuple of lists-or-tuples-or ndarrays with different lengths or shapes) is deprecated. If you meant to do this, you must specify 'dtype=object' when creating the ndarray.\n",
            "/usr/local/lib/python3.7/dist-packages/fastai/text/data.py:124: VisibleDeprecationWarning: Creating an ndarray from ragged nested sequences (which is a list-or-tuple of lists-or-tuples-or ndarrays with different lengths or shapes) is deprecated. If you meant to do this, you must specify 'dtype=object' when creating the ndarray.\n",
            "  sort_idx = np.concatenate(np.random.permutation(ck_idx[1:])) if len(ck_idx) > 1 else np.array([],dtype=np.int)\n",
            "<string>:6: VisibleDeprecationWarning: Creating an ndarray from ragged nested sequences (which is a list-or-tuple of lists-or-tuples-or ndarrays with different lengths or shapes) is deprecated. If you meant to do this, you must specify 'dtype=object' when creating the ndarray.\n",
            "/usr/local/lib/python3.7/dist-packages/fastai/text/data.py:124: VisibleDeprecationWarning: Creating an ndarray from ragged nested sequences (which is a list-or-tuple of lists-or-tuples-or ndarrays with different lengths or shapes) is deprecated. If you meant to do this, you must specify 'dtype=object' when creating the ndarray.\n",
            "  sort_idx = np.concatenate(np.random.permutation(ck_idx[1:])) if len(ck_idx) > 1 else np.array([],dtype=np.int)\n",
            "<string>:6: VisibleDeprecationWarning: Creating an ndarray from ragged nested sequences (which is a list-or-tuple of lists-or-tuples-or ndarrays with different lengths or shapes) is deprecated. If you meant to do this, you must specify 'dtype=object' when creating the ndarray.\n",
            "/usr/local/lib/python3.7/dist-packages/fastai/text/data.py:124: VisibleDeprecationWarning: Creating an ndarray from ragged nested sequences (which is a list-or-tuple of lists-or-tuples-or ndarrays with different lengths or shapes) is deprecated. If you meant to do this, you must specify 'dtype=object' when creating the ndarray.\n",
            "  sort_idx = np.concatenate(np.random.permutation(ck_idx[1:])) if len(ck_idx) > 1 else np.array([],dtype=np.int)\n",
            "<string>:6: VisibleDeprecationWarning: Creating an ndarray from ragged nested sequences (which is a list-or-tuple of lists-or-tuples-or ndarrays with different lengths or shapes) is deprecated. If you meant to do this, you must specify 'dtype=object' when creating the ndarray.\n",
            "/usr/local/lib/python3.7/dist-packages/fastai/text/data.py:124: VisibleDeprecationWarning: Creating an ndarray from ragged nested sequences (which is a list-or-tuple of lists-or-tuples-or ndarrays with different lengths or shapes) is deprecated. If you meant to do this, you must specify 'dtype=object' when creating the ndarray.\n",
            "  sort_idx = np.concatenate(np.random.permutation(ck_idx[1:])) if len(ck_idx) > 1 else np.array([],dtype=np.int)\n",
            "<string>:6: VisibleDeprecationWarning: Creating an ndarray from ragged nested sequences (which is a list-or-tuple of lists-or-tuples-or ndarrays with different lengths or shapes) is deprecated. If you meant to do this, you must specify 'dtype=object' when creating the ndarray.\n"
          ]
        }
      ],
      "source": [
        "learn_classifier.fit_one_cycle(5, max_lr=1e-0, moms=(0.8,0.7))"
      ]
    },
    {
      "cell_type": "code",
      "execution_count": 204,
      "metadata": {
        "colab": {
          "base_uri": "https://localhost:8080/",
          "height": 278
        },
        "id": "ToR6na02TjHi",
        "outputId": "dce366a5-f72c-4c86-9d9f-1bcecc4f20a7"
      },
      "outputs": [
        {
          "data": {
            "image/png": "[encoded data removed]",
            "text/plain": [
              "<Figure size 432x288 with 1 Axes>"
            ]
          },
          "metadata": {
            "needs_background": "light"
          },
          "output_type": "display_data"
        }
      ],
      "source": [
        "learn_classifier.recorder.plot_losses()"
      ]
    },
    {
      "cell_type": "code",
      "execution_count": 205,
      "metadata": {
        "colab": {
          "base_uri": "https://localhost:8080/",
          "height": 485
        },
        "id": "BLHJl3oQTjHi",
        "outputId": "86b2483f-64b8-49ff-b48d-389d497b015f"
      },
      "outputs": [
        {
          "data": {
            "text/html": [
              "\n",
              "<style>\n",
              "    /* Turns off some styling */\n",
              "    progress {\n",
              "        /* gets rid of default border in Firefox and Opera. */\n",
              "        border: none;\n",
              "        /* Needs to be in here for Safari polyfill so background images work as expected. */\n",
              "        background-size: auto;\n",
              "    }\n",
              "    .progress-bar-interrupted, .progress-bar-interrupted::-webkit-progress-bar {\n",
              "        background: #F44336;\n",
              "    }\n",
              "</style>\n"
            ],
            "text/plain": [
              "<IPython.core.display.HTML object>"
            ]
          },
          "metadata": {},
          "output_type": "display_data"
        },
        {
          "data": {
            "text/html": [
              "\n",
              "    <div>\n",
              "      <progress value='0' class='' max='1' style='width:300px; height:20px; vertical-align: middle;'></progress>\n",
              "      0.00% [0/1 00:00<00:00]\n",
              "    </div>\n",
              "    \n",
              "<table border=\"1\" class=\"dataframe\">\n",
              "  <thead>\n",
              "    <tr style=\"text-align: left;\">\n",
              "      <th>epoch</th>\n",
              "      <th>train_loss</th>\n",
              "      <th>valid_loss</th>\n",
              "      <th>accuracy</th>\n",
              "      <th>time</th>\n",
              "    </tr>\n",
              "  </thead>\n",
              "  <tbody>\n",
              "  </tbody>\n",
              "</table><p>\n",
              "\n",
              "    <div>\n",
              "      <progress value='89' class='' max='104' style='width:300px; height:20px; vertical-align: middle;'></progress>\n",
              "      85.58% [89/104 00:05<00:00 0.2129]\n",
              "    </div>\n",
              "    "
            ],
            "text/plain": [
              "<IPython.core.display.HTML object>"
            ]
          },
          "metadata": {},
          "output_type": "display_data"
        },
        {
          "name": "stderr",
          "output_type": "stream",
          "text": [
            "/usr/local/lib/python3.7/dist-packages/fastai/text/data.py:124: VisibleDeprecationWarning: Creating an ndarray from ragged nested sequences (which is a list-or-tuple of lists-or-tuples-or ndarrays with different lengths or shapes) is deprecated. If you meant to do this, you must specify 'dtype=object' when creating the ndarray.\n",
            "  sort_idx = np.concatenate(np.random.permutation(ck_idx[1:])) if len(ck_idx) > 1 else np.array([],dtype=np.int)\n",
            "<string>:6: VisibleDeprecationWarning: Creating an ndarray from ragged nested sequences (which is a list-or-tuple of lists-or-tuples-or ndarrays with different lengths or shapes) is deprecated. If you meant to do this, you must specify 'dtype=object' when creating the ndarray.\n"
          ]
        },
        {
          "name": "stdout",
          "output_type": "stream",
          "text": [
            "LR Finder is complete, type {learner_name}.recorder.plot() to see the graph.\n",
            "Min numerical gradient: 6.31E-07\n",
            "Min loss divided by 10: 7.59E-08\n"
          ]
        },
        {
          "data": {
            "image/png": "[encoded data removed]",
            "text/plain": [
              "<Figure size 432x288 with 1 Axes>"
            ]
          },
          "metadata": {
            "needs_background": "light"
          },
          "output_type": "display_data"
        }
      ],
      "source": [
        "lang_mod.freeze_to(-1)\n",
        "\n",
        "learn_classifier.lr_find()\n",
        "learn_classifier.recorder.plot(suggestion=True)"
      ]
    },
    {
      "cell_type": "markdown",
      "metadata": {
        "id": "ZyADkr6yTyG9"
      },
      "source": [
        "Test out the classification model on spam and non-spam examples."
      ]
    },
    {
      "cell_type": "code",
      "execution_count": 206,
      "metadata": {
        "colab": {
          "base_uri": "https://localhost:8080/"
        },
        "id": "Y_KKaOnrTjHj",
        "outputId": "0fed74e2-c42a-4903-e472-3f7e5d7cccd3"
      },
      "outputs": [
        {
          "data": {
            "text/plain": [
              "(Category tensor(0), tensor(0), tensor([9.9983e-01, 1.7422e-04]))"
            ]
          },
          "execution_count": 206,
          "metadata": {},
          "output_type": "execute_result"
        }
      ],
      "source": [
        "# predict\n",
        "learn_classifier.predict('did you buy the groceries for dinner? :)')"
      ]
    },
    {
      "cell_type": "code",
      "execution_count": 207,
      "metadata": {
        "colab": {
          "base_uri": "https://localhost:8080/"
        },
        "id": "A8Xv4N9STjHj",
        "outputId": "a67c3b8f-de48-4334-aaa4-d927fc4ef0d7"
      },
      "outputs": [
        {
          "data": {
            "text/plain": [
              "(Category tensor(0), tensor(0), tensor([0.5290, 0.4710]))"
            ]
          },
          "execution_count": 207,
          "metadata": {},
          "output_type": "execute_result"
        }
      ],
      "source": [
        "# predict\n",
        "learn_classifier.predict('Free entry call back now')"
      ]
    },
    {
      "cell_type": "markdown",
      "metadata": {
        "id": "gcUOVjveT8Xu"
      },
      "source": [
        "Next we will evaluate on all of our validation data."
      ]
    },
    {
      "cell_type": "code",
      "execution_count": 208,
      "metadata": {
        "colab": {
          "base_uri": "https://localhost:8080/",
          "height": 34
        },
        "id": "jkvU1PvTTjHj",
        "outputId": "887dcd5e-168f-4c74-9afc-40d91be32321"
      },
      "outputs": [
        {
          "data": {
            "text/html": [
              "\n",
              "<style>\n",
              "    /* Turns off some styling */\n",
              "    progress {\n",
              "        /* gets rid of default border in Firefox and Opera. */\n",
              "        border: none;\n",
              "        /* Needs to be in here for Safari polyfill so background images work as expected. */\n",
              "        background-size: auto;\n",
              "    }\n",
              "    .progress-bar-interrupted, .progress-bar-interrupted::-webkit-progress-bar {\n",
              "        background: #F44336;\n",
              "    }\n",
              "</style>\n"
            ],
            "text/plain": [
              "<IPython.core.display.HTML object>"
            ]
          },
          "metadata": {},
          "output_type": "display_data"
        },
        {
          "data": {
            "text/html": [],
            "text/plain": [
              "<IPython.core.display.HTML object>"
            ]
          },
          "metadata": {},
          "output_type": "display_data"
        },
        {
          "data": {
            "text/plain": [
              "torch.Size([1115, 2])"
            ]
          },
          "execution_count": 208,
          "metadata": {},
          "output_type": "execute_result"
        }
      ],
      "source": [
        "# get predictions from validation\n",
        "valid_preds, valid_label=learn_classifier.get_preds(ds_type=DatasetType.Valid, ordered=True)\n",
        "valid_preds.shape"
      ]
    },
    {
      "attachments": {},
      "cell_type": "markdown",
      "metadata": {
        "id": "s4UopYcrWw38"
      },
      "source": [
        "### 1. Evaluate Performance"
      ]
    },
    {
      "cell_type": "markdown",
      "metadata": {
        "id": "203dGnT_y1tD"
      },
      "source": [
        "The current accuracy for ULMFit is 0.76 which is not good as compared to GRU model and I think it might be due to that features of transfer learning learning might not be closely relavent to the dataset we have."
      ]
    },
    {
      "cell_type": "code",
      "execution_count": 209,
      "metadata": {
        "colab": {
          "base_uri": "https://localhost:8080/",
          "height": 34
        },
        "id": "hJFv4ywTWw4F",
        "outputId": "0b7ccb45-b41a-4380-95d3-85a2d7f7f1d1"
      },
      "outputs": [
        {
          "data": {
            "text/html": [
              "\n",
              "<style>\n",
              "    /* Turns off some styling */\n",
              "    progress {\n",
              "        /* gets rid of default border in Firefox and Opera. */\n",
              "        border: none;\n",
              "        /* Needs to be in here for Safari polyfill so background images work as expected. */\n",
              "        background-size: auto;\n",
              "    }\n",
              "    .progress-bar-interrupted, .progress-bar-interrupted::-webkit-progress-bar {\n",
              "        background: #F44336;\n",
              "    }\n",
              "</style>\n"
            ],
            "text/plain": [
              "<IPython.core.display.HTML object>"
            ]
          },
          "metadata": {},
          "output_type": "display_data"
        },
        {
          "data": {
            "text/html": [],
            "text/plain": [
              "<IPython.core.display.HTML object>"
            ]
          },
          "metadata": {},
          "output_type": "display_data"
        },
        {
          "data": {
            "text/plain": [
              "torch.Size([1114, 2])"
            ]
          },
          "execution_count": 209,
          "metadata": {},
          "output_type": "execute_result"
        }
      ],
      "source": [
        "# get predictions from test set for ULMFiT\n",
        "test_preds, test_label=learn_classifier.get_preds(ds_type=DatasetType.Test, ordered=True)\n",
        "test_preds.shape"
      ]
    },
    {
      "cell_type": "code",
      "execution_count": 211,
      "metadata": {
        "id": "IFhxZ-dpKneu"
      },
      "outputs": [],
      "source": [
        "df_tt.reset_index(inplace = True, drop = True)"
      ]
    },
    {
      "cell_type": "code",
      "execution_count": 217,
      "metadata": {
        "id": "mdvQPqsoKI0j"
      },
      "outputs": [],
      "source": [
        "i = 0\n",
        "df_tt['label'] = np.nan\n",
        "for i in range(0, df_tt.shape[0]):\n",
        "\n",
        "  if df_tt.iloc[i].target == 'ham':\n",
        "    df_tt.at[i, 'label'] = 0\n",
        "  \n",
        "  if df_tt.iloc[i].target == 'spam':\n",
        "    df_tt.at[i, 'label'] = 1"
      ]
    },
    {
      "cell_type": "code",
      "execution_count": 218,
      "metadata": {
        "id": "YW_KCaDSAJ-F"
      },
      "outputs": [],
      "source": [
        "true_ulmfit = [i for i in df_tt.label]\n",
        "true_ulmfit = torch.tensor(true_ulmfit).unsqueeze(1)"
      ]
    },
    {
      "cell_type": "code",
      "execution_count": 219,
      "metadata": {
        "colab": {
          "base_uri": "https://localhost:8080/"
        },
        "id": "XKCnoDzgAN5s",
        "outputId": "ad924df2-8c49-48a5-960a-8ce0ed8c6c33"
      },
      "outputs": [
        {
          "name": "stdout",
          "output_type": "stream",
          "text": [
            "Test Accuracy for ULMFiT model: 0.9640933572710951\n"
          ]
        }
      ],
      "source": [
        "correct, total = 0, 0\n",
        "pred_ulmfit = test_preds.max(1, keepdim=True)[1]\n",
        "correct += pred_ulmfit.eq(true_ulmfit.view_as(pred_ulmfit)).sum().item()\n",
        "total += true_ulmfit.shape[0]\n",
        "\n",
        "acc = correct/total\n",
        "print('Test Accuracy for ULMFiT model:', acc)"
      ]
    },
    {
      "cell_type": "code",
      "execution_count": 220,
      "metadata": {
        "colab": {
          "base_uri": "https://localhost:8080/"
        },
        "id": "RRDZTbiqAPXx",
        "outputId": "020c2029-16c0-4f23-c085-d1b21ddb0f3d"
      },
      "outputs": [
        {
          "name": "stdout",
          "output_type": "stream",
          "text": [
            "Test Accuracy for best GRU model: 0.9685816876122083\n"
          ]
        }
      ],
      "source": [
        "correct = 0\n",
        "total = 0\n",
        "i = 0\n",
        "GRU_pred = []\n",
        "GRU_true = []\n",
        "\n",
        "for char in test_iter:\n",
        "\n",
        "    output = net(char.sms[0])\n",
        "    pred = output.max(1, keepdim=True)[1]\n",
        "    correct += pred.eq(char.label.view_as(pred)).sum().item()\n",
        "    total += char.label.shape[0]\n",
        "    GRU_pred.extend(pred)\n",
        "    GRU_true.extend(char.label)\n",
        "\n",
        "acc = correct/total\n",
        "\n",
        "print('Test Accuracy for best GRU model:',acc)\n",
        "\n",
        "GRU_pred = torch.LongTensor(GRU_pred)\n",
        "GRU_true = torch.LongTensor(GRU_true)"
      ]
    },
    {
      "cell_type": "markdown",
      "metadata": {
        "id": "fWncgecJzZu-"
      },
      "source": [
        "Both the confusion matrix plots for the ULMFit model and GRU model are plotted below. The main qualitative difference is the ULMFit model tends to fit the majority of misclassified under False-negative and for the GRU model it was producing more false positives than the ULMFit model."
      ]
    },
    {
      "cell_type": "code",
      "execution_count": 221,
      "metadata": {
        "colab": {
          "base_uri": "https://localhost:8080/",
          "height": 336
        },
        "id": "vuxLCHhFWw4F",
        "outputId": "047c9e8a-d3ac-4dea-c90c-6b1c826b9b60"
      },
      "outputs": [
        {
          "data": {
            "image/png": "[encoded data removed]",
            "text/plain": [
              "<Figure size 432x288 with 2 Axes>"
            ]
          },
          "metadata": {
            "needs_background": "light"
          },
          "output_type": "display_data"
        }
      ],
      "source": [
        "from sklearn.metrics import confusion_matrix\n",
        "import seaborn as sns\n",
        "\n",
        "cf_ulmfit = confusion_matrix(true_ulmfit, pred_ulmfit)\n",
        "ax = sns.heatmap(cf_ulmfit, annot=True, cmap='Blues')\n",
        "\n",
        "ax.set_title('Confusion Matrix for ULMFit model\\n\\n');\n",
        "ax.set_xlabel('\\nPredicted Values')\n",
        "ax.set_ylabel('Actual Values');\n",
        "plt.show()\n"
      ]
    },
    {
      "cell_type": "code",
      "execution_count": 223,
      "metadata": {
        "colab": {
          "base_uri": "https://localhost:8080/",
          "height": 336
        },
        "id": "nnY_7yiT-M_e",
        "outputId": "98efd14a-d9b2-412b-8fcd-5c0d5dc0943f"
      },
      "outputs": [
        {
          "data": {
            "image/png": "[encoded data removed]",
            "text/plain": [
              "<Figure size 432x288 with 2 Axes>"
            ]
          },
          "metadata": {
            "needs_background": "light"
          },
          "output_type": "display_data"
        }
      ],
      "source": [
        "cf_rnn = confusion_matrix(GRU_true, GRU_pred)\n",
        "ax = sns.heatmap(cf_rnn, annot=True, cmap=\"Blues\")\n",
        "\n",
        "ax.set_title('Confusion Matrix for GRU model\\n\\n');\n",
        "ax.set_xlabel('\\nPredicted Values')\n",
        "ax.set_ylabel('Actual Values');\n",
        "plt.show()"
      ]
    },
    {
      "attachments": {},
      "cell_type": "markdown",
      "metadata": {
        "id": "F9BpSLGBWw4F"
      },
      "source": [
        "### 2. Evaluate on New Data"
      ]
    },
    {
      "cell_type": "markdown",
      "metadata": {
        "id": "s4h9UGyC0fNg"
      },
      "source": [
        "- From the above matrix and accuracy, I would go with ULMFIT as my final model as it is giving my almost same accuracy in terms of classification but as we are using transfer learning it might perform better.\n",
        "- After performing on real dataset, I can infer that neiter model performs better on the real message dataset and thus according to me more features like when it has arrived, from which mail ID or some grammatical mistake should be taken as features and then train the model again to improve the performance."
      ]
    },
    {
      "cell_type": "code",
      "execution_count": 261,
      "metadata": {
        "id": "Ho0F4VMCnzXR"
      },
      "outputs": [],
      "source": [
        "def p_new_ulmfit(sample):\n",
        "  output = learn_classifier.predict(sample)[2]\n",
        "  prob = F.softmax(output, dim = 0)\n",
        "  print(prob[0])\n",
        "  pred = output.numpy().argmax()\n",
        "  catg = ''\n",
        "  if pred == 1:\n",
        "    catg = 'Spam'\n",
        "  else:\n",
        "    catg = 'Non-Spam'\n",
        "\n",
        "  print('ULMFit Classification:',sample,' - ',catg)\n",
        "  print('ULMFit Probability:',sample, ' - ', float(prob[0]))"
      ]
    },
    {
      "cell_type": "code",
      "execution_count": 255,
      "metadata": {
        "id": "WHq9CMwp-zbh"
      },
      "outputs": [],
      "source": [
        "def p_new_GRU(sample):\n",
        "  \n",
        "  tokens=[]\n",
        "  for i in sample:\n",
        "    tokens.append(torch.tensor(text_field.vocab.stoi[i]))\n",
        "\n",
        "  tokens = torch.LongTensor([tokens])\n",
        "  output = net(tokens)\n",
        "  print(output)\n",
        "  prob = F.softmax(output, dim=1)\n",
        "  print(prob[0][1])\n",
        "  pred = int(output.max(1, keepdim=True)[1])\n",
        "\n",
        "  catg = ''\n",
        "  if pred == 1:\n",
        "    catg = 'Spam'\n",
        "  else:\n",
        "    catg = 'Non-Spam'\n",
        "\n",
        "  print('GRU Classification:',sample,' - ',catg)\n",
        "  print('GRU Probability:',sample, ' - ', float(prob[0][1]))\n"
      ]
    },
    {
      "cell_type": "code",
      "execution_count": 262,
      "metadata": {
        "colab": {
          "base_uri": "https://localhost:8080/"
        },
        "id": "oU04MTPA-7td",
        "outputId": "b599de36-ed34-46c0-8467-e47ade041875"
      },
      "outputs": [
        {
          "name": "stdout",
          "output_type": "stream",
          "text": [
            "tensor(0.7310)\n",
            "ULMFit Classification: machine learning is sooo cool!  -  Non-Spam\n",
            "ULMFit Probability: machine learning is sooo cool!  -  0.7310481667518616\n",
            "----------\n",
            "tensor(0.4911)\n",
            "ULMFit Classification: Hurry now, click on the link for 10,000 USD  -  Spam\n",
            "ULMFit Probability: Hurry now, click on the link for 10,000 USD  -  0.4910964071750641\n"
          ]
        }
      ],
      "source": [
        "sample = \"machine learning is sooo cool!\"\n",
        "p_new_ulmfit(sample)\n",
        "print('-'*10)\n",
        "sample = \"Hurry now, click on the link for 10,000 USD\"\n",
        "p_new_ulmfit(sample)"
      ]
    },
    {
      "cell_type": "markdown",
      "metadata": {
        "id": "hh8HjZuQ2L4a"
      },
      "source": [
        "From real world data, the GRU is performing good atleast on the sentence."
      ]
    },
    {
      "cell_type": "code",
      "execution_count": 268,
      "metadata": {
        "colab": {
          "base_uri": "https://localhost:8080/"
        },
        "id": "8cXcT91w0xYN",
        "outputId": "eca2d81e-e5a0-462d-eb73-35724be77694"
      },
      "outputs": [
        {
          "name": "stdout",
          "output_type": "stream",
          "text": [
            "tensor(0.7309)\n",
            "ULMFit Classification: @6.4% = comforti home!  -  Non-Spam\n",
            "ULMFit Probability: @6.4% = comforti home!  -  0.7308570742607117\n",
            "tensor([[ 0.3156, -0.3611]], grad_fn=<AddmmBackward0>)\n",
            "tensor(0.3370, grad_fn=<SelectBackward0>)\n",
            "GRU Classification: @6.4% = comforti home!  -  Non-Spam\n",
            "GRU Probability: @6.4% = comforti home!  -  0.33699992299079895\n",
            "----------------------------------------------------------------------------------------------------\n",
            "tensor(0.7301)\n",
            "ULMFit Classification: Invitation to join Desh Videsh  -  Non-Spam\n",
            "ULMFit Probability: Invitation to join Desh Videsh  -  0.7300558686256409\n",
            "tensor([[ 1.3011, -1.3408]], grad_fn=<AddmmBackward0>)\n",
            "tensor(0.0665, grad_fn=<SelectBackward0>)\n",
            "GRU Classification: Invitation to join Desh Videsh  -  Non-Spam\n",
            "GRU Probability: Invitation to join Desh Videsh  -  0.06648725271224976\n",
            "----------------------------------------------------------------------------------------------------\n",
            "tensor(0.7306)\n",
            "ULMFit Classification: Holi Ready Sale  -  Non-Spam\n",
            "ULMFit Probability: Holi Ready Sale  -  0.7305874824523926\n",
            "tensor([[ 1.0207, -1.0417]], grad_fn=<AddmmBackward0>)\n",
            "tensor(0.1128, grad_fn=<SelectBackward0>)\n",
            "GRU Classification: Holi Ready Sale  -  Non-Spam\n",
            "GRU Probability: Holi Ready Sale  -  0.1128094419836998\n",
            "----------------------------------------------------------------------------------------------------\n",
            "tensor(0.7310)\n",
            "ULMFit Classification: Comes after END  -  Non-Spam\n",
            "ULMFit Probability: Comes after END  -  0.7310285568237305\n",
            "tensor([[ 0.8294, -0.8316]], grad_fn=<AddmmBackward0>)\n",
            "tensor(0.1596, grad_fn=<SelectBackward0>)\n",
            "GRU Classification: Comes after END  -  Non-Spam\n",
            "GRU Probability: Comes after END  -  0.15962627530097961\n",
            "----------------------------------------------------------------------------------------------------\n",
            "tensor(0.7140)\n",
            "ULMFit Classification: Financial update for go  -  Non-Spam\n",
            "ULMFit Probability: Financial update for go  -  0.7140315175056458\n",
            "tensor([[ 0.7218, -0.7288]], grad_fn=<AddmmBackward0>)\n",
            "tensor(0.1899, grad_fn=<SelectBackward0>)\n",
            "GRU Classification: Financial update for go  -  Non-Spam\n",
            "GRU Probability: Financial update for go  -  0.18990829586982727\n",
            "----------------------------------------------------------------------------------------------------\n"
          ]
        }
      ],
      "source": [
        "spam_ex = ['@6.4% = comforti home!',\n",
        "               'Invitation to join Desh Videsh',\n",
        "               'Holi Ready Sale',\n",
        "               'Comes after END',\n",
        "               'Financial update for go']\n",
        "\n",
        "for i in spam_ex:\n",
        "  p_new_ulmfit(i)\n",
        "  p_new_GRU(i)\n",
        "  print('-'*100)"
      ]
    },
    {
      "cell_type": "code",
      "execution_count": 264,
      "metadata": {
        "colab": {
          "base_uri": "https://localhost:8080/"
        },
        "id": "y3DCyMW_n05f",
        "outputId": "5936e759-ba89-4b8d-9fa6-1f154e750d1c"
      },
      "outputs": [
        {
          "name": "stdout",
          "output_type": "stream",
          "text": [
            "tensor(0.7258)\n",
            "ULMFit Classification: 9 new things that you might not know: Exam Ready Edition  -  Non-Spam\n",
            "ULMFit Probability: 9 new things that you might not know: Exam Ready Edition  -  0.7257978916168213\n",
            "tensor([[ 0.6210, -0.6130]], grad_fn=<AddmmBackward0>)\n",
            "tensor(0.2255, grad_fn=<SelectBackward0>)\n",
            "GRU Classification: 9 new things that you might not know: Exam Ready Edition  -  Non-Spam\n",
            "GRU Probability: 9 new things that you might not know: Exam Ready Edition  -  0.22548866271972656\n",
            "----------------------------------------------------------------------------------------------------\n",
            "tensor(0.7160)\n",
            "ULMFit Classification: Last chance to take part in the Canadian Graduate and Professional Student Survey  -  Non-Spam\n",
            "ULMFit Probability: Last chance to take part in the Canadian Graduate and Professional Student Survey  -  0.715973973274231\n",
            "tensor([[ 1.0557, -1.0839]], grad_fn=<AddmmBackward0>)\n",
            "tensor(0.1053, grad_fn=<SelectBackward0>)\n",
            "GRU Classification: Last chance to take part in the Canadian Graduate and Professional Student Survey  -  Non-Spam\n",
            "GRU Probability: Last chance to take part in the Canadian Graduate and Professional Student Survey  -  0.10530780255794525\n",
            "----------------------------------------------------------------------------------------------------\n",
            "tensor(0.6940)\n",
            "ULMFit Classification: Recent Canvas Notifications  -  Non-Spam\n",
            "ULMFit Probability: Recent Canvas Notifications  -  0.6939823031425476\n",
            "tensor([[ 0.5991, -0.6244]], grad_fn=<AddmmBackward0>)\n",
            "tensor(0.2273, grad_fn=<SelectBackward0>)\n",
            "GRU Classification: Recent Canvas Notifications  -  Non-Spam\n",
            "GRU Probability: Recent Canvas Notifications  -  0.2273206263780594\n",
            "----------------------------------------------------------------------------------------------------\n",
            "tensor(0.7297)\n",
            "ULMFit Classification: New Course: Parallel Programming with Dask in Python  -  Non-Spam\n",
            "ULMFit Probability: New Course: Parallel Programming with Dask in Python  -  0.7297340631484985\n",
            "tensor([[ 1.1009, -1.1066]], grad_fn=<AddmmBackward0>)\n",
            "tensor(0.0991, grad_fn=<SelectBackward0>)\n",
            "GRU Classification: New Course: Parallel Programming with Dask in Python  -  Non-Spam\n",
            "GRU Probability: New Course: Parallel Programming with Dask in Python  -  0.0990784764289856\n",
            "----------------------------------------------------------------------------------------------------\n",
            "tensor(0.7129)\n",
            "ULMFit Classification: Group presentations on April 11  -  Non-Spam\n",
            "ULMFit Probability: Group presentations on April 11  -  0.712902843952179\n",
            "tensor([[ 0.8972, -0.9671]], grad_fn=<AddmmBackward0>)\n",
            "tensor(0.1342, grad_fn=<SelectBackward0>)\n",
            "GRU Classification: Group presentations on April 11  -  Non-Spam\n",
            "GRU Probability: Group presentations on April 11  -  0.13420191407203674\n",
            "----------------------------------------------------------------------------------------------------\n"
          ]
        }
      ],
      "source": [
        "non_spam_ex = ['9 new things that you might not know: Exam Ready Edition',\n",
        "           'Last chance to take part in the Canadian Graduate and Professional Student Survey',\n",
        "           'Recent Canvas Notifications',\n",
        "           'New Course: Parallel Programming with Dask in Python',\n",
        "           'Group presentations on April 11']\n",
        "\n",
        "for i in non_spam_ex:\n",
        "  p_new_ulmfit(i)\n",
        "  p_new_GRU(i)\n",
        "  print('-'*100)"
      ]
    },
    {
      "cell_type": "markdown",
      "metadata": {
        "id": "hwidYVJswOQ0"
      },
      "source": [
        "References:\n",
        "\n",
        "https://www.sciencedirect.com/science/article/pii/S2405844018353404"
      ]
    }
  ],
  "metadata": {
    "accelerator": "GPU",
    "colab": {
      "collapsed_sections": [],
      "name": "LAB_4_Sequential_Data - NP.ipynb",
      "provenance": []
    },
    "kernelspec": {
      "display_name": "base",
      "language": "python",
      "name": "python3"
    },
    "language_info": {
      "name": "python",
      "version": "3.9.12 (main, Apr  4 2022, 05:22:27) [MSC v.1916 64 bit (AMD64)]"
    },
    "vscode": {
      "interpreter": {
        "hash": "ad02ba740a46be90365c03e048195de0d92ddb9ce66bf5530746a499bc695967"
      }
    }
  },
  "nbformat": 4,
  "nbformat_minor": 0
}
